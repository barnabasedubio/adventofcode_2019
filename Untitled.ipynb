{
 "cells": [
  {
   "cell_type": "code",
   "execution_count": 32,
   "metadata": {},
   "outputs": [],
   "source": [
    "from aocd.models import Puzzle"
   ]
  },
  {
   "cell_type": "code",
   "execution_count": 35,
   "metadata": {},
   "outputs": [],
   "source": [
    "puzzle = Puzzle(2019, 10)\n",
    "puzzle_input = puzzle.input_data.split(\"\\n\")\n",
    "\n",
    "# print(puzzle.input_data)"
   ]
  },
  {
   "cell_type": "code",
   "execution_count": 36,
   "metadata": {},
   "outputs": [],
   "source": [
    "def create_matrix(lst):\n",
    "    # transpose input data to make traversial easier\n",
    "    return [\"\".join(s) for s in zip(*lst)]      "
   ]
  },
  {
   "cell_type": "code",
   "execution_count": 41,
   "metadata": {},
   "outputs": [],
   "source": [
    "# puzzle_matrix = create_matrix(puzzle_input)\n",
    "puzzle_matrix = create_matrix([\".#..#\", \".....\", \"#####\", \"....#\", \"...##\"])"
   ]
  },
  {
   "cell_type": "code",
   "execution_count": 42,
   "metadata": {},
   "outputs": [
    {
     "name": "stdout",
     "output_type": "stream",
     "text": [
      "10\n"
     ]
    }
   ],
   "source": [
    "max_asteroids_in_line_of_sight = 0\n",
    "\n",
    "for col in range(len(puzzle_matrix)):\n",
    "    for row in range(len(puzzle_matrix[col])):\n",
    "        if puzzle_matrix[row][col] == \"#\": # found an asteroid, now let's scan\n",
    "            \n",
    "            # during scanning, skip the vectors that turn out to just be \n",
    "            # scalars of the previously looked at vectors\n",
    "            \n",
    "print(count)"
   ]
  },
  {
   "cell_type": "code",
   "execution_count": null,
   "metadata": {},
   "outputs": [],
   "source": []
  }
 ],
 "metadata": {
  "kernelspec": {
   "display_name": "Python 3",
   "language": "python",
   "name": "python3"
  },
  "language_info": {
   "codemirror_mode": {
    "name": "ipython",
    "version": 3
   },
   "file_extension": ".py",
   "mimetype": "text/x-python",
   "name": "python",
   "nbconvert_exporter": "python",
   "pygments_lexer": "ipython3",
   "version": "3.7.0"
  }
 },
 "nbformat": 4,
 "nbformat_minor": 2
}
