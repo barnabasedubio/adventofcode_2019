{
 "cells": [
  {
   "cell_type": "code",
   "execution_count": 189,
   "metadata": {},
   "outputs": [],
   "source": [
    "from aocd.models import Puzzle\n",
    "from operator import itemgetter\n",
    "import math\n",
    "import pprint"
   ]
  },
  {
   "cell_type": "code",
   "execution_count": 166,
   "metadata": {},
   "outputs": [
    {
     "name": "stdout",
     "output_type": "stream",
     "text": [
      "['.###..#######..####..##...#',\n",
      " '########.#.###...###.#....#',\n",
      " '###..#...#######...#..####.',\n",
      " '.##.#.....#....##.#.#.....#',\n",
      " '###.#######.###..##......#.',\n",
      " '#..###..###.##.#.#####....#',\n",
      " '#.##..###....#####...##.##.',\n",
      " '####.##..#...#####.#..###.#',\n",
      " '#..#....####.####.###.#.###',\n",
      " '#..#..#....###...#####..#..',\n",
      " '##...####.######....#.####.',\n",
      " '####.##...###.####..##....#',\n",
      " '#.#..#.###.#.##.####..#...#',\n",
      " '..##..##....#.#..##..#.#..#',\n",
      " '##.##.#..######.#..#..####.',\n",
      " '#.....#####.##........#####',\n",
      " '###.#.#######..#.#.##..#..#',\n",
      " '###...#..#.#..##.##..#####.',\n",
      " '.##.#..#...#####.###.##.##.',\n",
      " '...#.#.######.#####.#.####.',\n",
      " '#..##..###...###.#.#..#.#.#',\n",
      " '.#..#.#......#.###...###..#',\n",
      " '#.##.#.#..#.#......#..#..##',\n",
      " '.##.##.##.#...##.##.##.#..#',\n",
      " '#.###.#.#...##..#####.###.#',\n",
      " '#.####.#..#.#.##.######.#..',\n",
      " '.#.#####.##...#...#.##...#.']\n"
     ]
    }
   ],
   "source": [
    "puzzle = Puzzle(2019, 10)\n",
    "puzzle_input = puzzle.input_data.split(\"\\n\")\n",
    "\n",
    "pprint.pprint(puzzle_input)"
   ]
  },
  {
   "cell_type": "code",
   "execution_count": 220,
   "metadata": {},
   "outputs": [],
   "source": [
    "def create_matrix(lst):\n",
    "    # transpose input data to make traversial easier\n",
    "    return [\"\".join(s) for s in zip(*lst)]      "
   ]
  },
  {
   "cell_type": "code",
   "execution_count": 228,
   "metadata": {},
   "outputs": [
    {
     "data": {
      "text/plain": [
       "['.#....#####...#..',\n",
       " '##...##.#####..##',\n",
       " '##...#...#.#####.',\n",
       " '..#.....#...###..',\n",
       " '..#.#.....#....##']"
      ]
     },
     "execution_count": 228,
     "metadata": {},
     "output_type": "execute_result"
    }
   ],
   "source": [
    "# puzzle_matrix = create_matrix(puzzle_input)\n",
    "\n",
    "# TESTS:\n",
    "\n",
    "# (3, 4) => 8 -> works\n",
    "# puzzle_matrix = create_matrix([\".#..#\", \".....\", \"#####\", \"....#\", \"...##\"])\n",
    "\n",
    "# (5, 8) => 33 -> works\n",
    "# puzzle_matrix = create_matrix([\"......#.#.\", \"#..#.#....\", \"..#######.\", \".#.#.###..\", \".#..#.....\", \"..#....#.#\", \"#..#....#.\", \".##.#..###\", \"##...#..#.\", \".#....####\"])\n",
    "\n",
    "# (1, 2) => 35 -> works\n",
    "# puzzle_matrix = create_matrix([\"#.#...#.#.\", \".###....#.\", \".#....#...\", \"##.#.#.#.#\", \"....#.#.#.\", \".##..###.#\", \"..#...##..\", \"..##....##\", \"......#...\", \".####.###.\"])\n",
    "\n",
    "# (6, 3) => 41 -> works\n",
    "# puzzle_matrix = create_matrix([\".#..#..###\", \"####.###.#\", \"....###.#.\", \"..###.##.#\", \"##.##.#.#.\", \"....###..#\", \"..#.#..#.#\", \"#..#.#.###\", \".##...##.#\", \".....#.#..\"])\n",
    "\n",
    "# (11, 13) => 210 -> works\n",
    "# puzzle_matrix = create_matrix([\".#..##.###...#######\", \"##.############..##.\", \".#.######.########.#\", \".###.#######.####.#.\", \"#####.##.#.##.###.##\", \"..#####..#.#########\", \"####################\", \"#.####....###.#.#.##\", \"##.#################\", \"#####.##.###..####..\", \"..######..##.#######\", \"####.##.####...##..#\", \".#####..#.######.###\", \"##...#.##########...\", \"#.##########.#######\", \".####.#.###.###.#.##\", \"....##.##.###..#####\", \".#.#.###########.###\", \"#.#.#.#####.####.###\", \"###.##.####.##.#..##\"])\n",
    "\n",
    "\n",
    "\n",
    "# part B tests\n",
    "puzzle_matrix = [\".#....#####...#..\", \"##...##.#####..##\", \"##...#...#.#####.\", \"..#.....#...###..\", \"..#.#.....#....##\"]\n",
    "puzzle_matrix"
   ]
  },
  {
   "cell_type": "code",
   "execution_count": 229,
   "metadata": {},
   "outputs": [],
   "source": [
    "def calculate_distance_vector(vector1, vector2):\n",
    "    return tuple([x[1] - x[0] for x in list(zip(vector1, vector2))])"
   ]
  },
  {
   "cell_type": "code",
   "execution_count": 230,
   "metadata": {},
   "outputs": [],
   "source": [
    "def standardize_vector(vector):\n",
    "    vector_length = math.sqrt(sum([x**2 for x in vector]))\n",
    "    vector = tuple([round(x / vector_length, 5) for x in vector])\n",
    "    return vector"
   ]
  },
  {
   "cell_type": "code",
   "execution_count": 231,
   "metadata": {},
   "outputs": [],
   "source": [
    "def check_if_collinear(vector1, vector2):\n",
    "    verdict = standardize_vector(vector1) == standardize_vector(vector2)\n",
    "    return verdict"
   ]
  },
  {
   "cell_type": "code",
   "execution_count": 236,
   "metadata": {},
   "outputs": [],
   "source": [
    "# this function counts all asteroids that are within LoS of another asteroid\n",
    "def count_asteroids(coords, asteroid_map):\n",
    "    \n",
    "    asteroids_discovered = 0\n",
    "    already_discovered_vectors = []\n",
    "        \n",
    "    # Scan over each element in the map (going from top left to bottom right)\n",
    "    for row in range(len(asteroid_map)):\n",
    "        for col in range(len(asteroid_map[0])):\n",
    "            if (col, row) != coords and asteroid_map[col][row] == \"#\":\n",
    "                # there is an asteroid here\n",
    "                asteroid_coords = (col, row)\n",
    "                \n",
    "                # calculate distance vector\n",
    "                distance_vector = calculate_distance_vector(coords, asteroid_coords)\n",
    "                \n",
    "                # if distance vector happens to be collinear with the vector of another asteroid you found, ignore\n",
    "                non_collinear_vector_found = True\n",
    "                for vector in already_discovered_vectors:\n",
    "                    if (check_if_collinear(vector, distance_vector)):\n",
    "                        non_collinear_vector_found = False\n",
    "                        \n",
    "                if not non_collinear_vector_found:\n",
    "                    continue\n",
    "                \n",
    "                # else add this vector to list of vectors you have already scanned, increment asteroids in LoS by 1\n",
    "                else:\n",
    "                    already_discovered_vectors.append(distance_vector)\n",
    "                    asteroids_discovered += 1\n",
    "                    \n",
    "    return asteroids_discovered, already_discovered_vectors"
   ]
  },
  {
   "cell_type": "code",
   "execution_count": 237,
   "metadata": {
    "scrolled": false
   },
   "outputs": [
    {
     "ename": "IndexError",
     "evalue": "list index out of range",
     "output_type": "error",
     "traceback": [
      "\u001b[1;31m---------------------------------------------------------------------------\u001b[0m",
      "\u001b[1;31mIndexError\u001b[0m                                Traceback (most recent call last)",
      "\u001b[1;32m<ipython-input-237-ac31ab458424>\u001b[0m in \u001b[0;36m<module>\u001b[1;34m\u001b[0m\n\u001b[0;32m     11\u001b[0m             \u001b[0mcoords_tuple\u001b[0m \u001b[1;33m=\u001b[0m \u001b[1;33m(\u001b[0m\u001b[0mcol\u001b[0m\u001b[1;33m,\u001b[0m \u001b[0mrow\u001b[0m\u001b[1;33m)\u001b[0m\u001b[1;33m\u001b[0m\u001b[0m\n\u001b[0;32m     12\u001b[0m \u001b[1;33m\u001b[0m\u001b[0m\n\u001b[1;32m---> 13\u001b[1;33m             \u001b[0masteroids_in_line_of_sight\u001b[0m \u001b[1;33m=\u001b[0m \u001b[0mcount_asteroids\u001b[0m\u001b[1;33m(\u001b[0m\u001b[0mcoords_tuple\u001b[0m\u001b[1;33m,\u001b[0m \u001b[0mpuzzle_matrix\u001b[0m\u001b[1;33m)\u001b[0m\u001b[1;33m[\u001b[0m\u001b[1;36m0\u001b[0m\u001b[1;33m]\u001b[0m\u001b[1;33m\u001b[0m\u001b[0m\n\u001b[0m\u001b[0;32m     14\u001b[0m \u001b[1;33m\u001b[0m\u001b[0m\n\u001b[0;32m     15\u001b[0m             \u001b[1;31m# update with asteroid with new best vantage point\u001b[0m\u001b[1;33m\u001b[0m\u001b[1;33m\u001b[0m\u001b[0m\n",
      "\u001b[1;32m<ipython-input-236-561e5f6ad512>\u001b[0m in \u001b[0;36mcount_asteroids\u001b[1;34m(coords, asteroid_map)\u001b[0m\n\u001b[0;32m      8\u001b[0m     \u001b[1;32mfor\u001b[0m \u001b[0mrow\u001b[0m \u001b[1;32min\u001b[0m \u001b[0mrange\u001b[0m\u001b[1;33m(\u001b[0m\u001b[0mlen\u001b[0m\u001b[1;33m(\u001b[0m\u001b[0masteroid_map\u001b[0m\u001b[1;33m)\u001b[0m\u001b[1;33m)\u001b[0m\u001b[1;33m:\u001b[0m\u001b[1;33m\u001b[0m\u001b[0m\n\u001b[0;32m      9\u001b[0m         \u001b[1;32mfor\u001b[0m \u001b[0mcol\u001b[0m \u001b[1;32min\u001b[0m \u001b[0mrange\u001b[0m\u001b[1;33m(\u001b[0m\u001b[0mlen\u001b[0m\u001b[1;33m(\u001b[0m\u001b[0masteroid_map\u001b[0m\u001b[1;33m[\u001b[0m\u001b[1;36m0\u001b[0m\u001b[1;33m]\u001b[0m\u001b[1;33m)\u001b[0m\u001b[1;33m)\u001b[0m\u001b[1;33m:\u001b[0m\u001b[1;33m\u001b[0m\u001b[0m\n\u001b[1;32m---> 10\u001b[1;33m             \u001b[1;32mif\u001b[0m \u001b[1;33m(\u001b[0m\u001b[0mcol\u001b[0m\u001b[1;33m,\u001b[0m \u001b[0mrow\u001b[0m\u001b[1;33m)\u001b[0m \u001b[1;33m!=\u001b[0m \u001b[0mcoords\u001b[0m \u001b[1;32mand\u001b[0m \u001b[0masteroid_map\u001b[0m\u001b[1;33m[\u001b[0m\u001b[0mcol\u001b[0m\u001b[1;33m]\u001b[0m\u001b[1;33m[\u001b[0m\u001b[0mrow\u001b[0m\u001b[1;33m]\u001b[0m \u001b[1;33m==\u001b[0m \u001b[1;34m\"#\"\u001b[0m\u001b[1;33m:\u001b[0m\u001b[1;33m\u001b[0m\u001b[0m\n\u001b[0m\u001b[0;32m     11\u001b[0m                 \u001b[1;31m# there is an asteroid here\u001b[0m\u001b[1;33m\u001b[0m\u001b[1;33m\u001b[0m\u001b[0m\n\u001b[0;32m     12\u001b[0m                 \u001b[0masteroid_coords\u001b[0m \u001b[1;33m=\u001b[0m \u001b[1;33m(\u001b[0m\u001b[0mcol\u001b[0m\u001b[1;33m,\u001b[0m \u001b[0mrow\u001b[0m\u001b[1;33m)\u001b[0m\u001b[1;33m\u001b[0m\u001b[0m\n",
      "\u001b[1;31mIndexError\u001b[0m: list index out of range"
     ]
    }
   ],
   "source": [
    "max_asteroids_in_line_of_sight = 0\n",
    "coords_of_asteroid_with_best_line_of_sight = (0, 0)\n",
    "\n",
    "los_asteroid_vectors = [] # line of sight asteroid vectors\n",
    "\n",
    "# column is X, row is Y\n",
    "for row in range(len(puzzle_matrix)):\n",
    "    for col in range(len(puzzle_matrix[0])):\n",
    "        if puzzle_matrix[col][row] == \"#\": # found an asteroid, now let's scan!\n",
    "            \n",
    "            coords_tuple = (col, row)\n",
    "                       \n",
    "            asteroids_in_line_of_sight = count_asteroids(coords_tuple, puzzle_matrix)[0]\n",
    "                        \n",
    "            # update with asteroid with new best vantage point\n",
    "            if asteroids_in_line_of_sight > max_asteroids_in_line_of_sight:\n",
    "                max_asteroids_in_line_of_sight = asteroids_in_line_of_sight\n",
    "                coords_of_asteroid_with_best_line_of_sight = coords_tuple\n",
    "                los_asteroid_vectors = count_asteroids(coords_tuple, puzzle_matrix)[1]\n",
    "                \n",
    "print(max_asteroids_in_line_of_sight, coords_of_asteroid_with_best_line_of_sight, los_asteroid_vectors)"
   ]
  },
  {
   "cell_type": "code",
   "execution_count": 300,
   "metadata": {},
   "outputs": [],
   "source": [
    "# answer was correct, now onto part B\n",
    "\n",
    "los_asteroid_vectors = [(-16, -23), (-15, -23), (-14, -23), (-11, -23), (-10, -23), (-9, -23), (-8, -23), (-7, -23), (-6, -23), (-5, -23), (-2, -23), (-1, -23), (0, -23), (1, -23), (4, -23), (5, -23), (9, -23), (-17, -22), (-16, -22), (-15, -22), (-14, -22), (-13, -22), (-12, -22), (-11, -22), (-10, -22), (-8, -22), (-6, -22), (-5, -22), (-4, -22), (1, -22), (2, -22), (4, -22), (9, -22), (-17, -21), (-16, -21), (-15, -21), (-12, -21), (-8, -21), (-7, -21), (-6, -21), (-5, -21), (-4, -21), (-3, -21), (-2, -21), (2, -21), (5, -21), (6, -21), (7, -21), (8, -21), (-16, -20), (-15, -20), (-13, -20), (-7, -20), (-2, -20), (-1, -20), (1, -20), (3, -20), (9, -20), (-17, -19), (-16, -19), (-15, -19), (-13, -19), (-12, -19), (-11, -19), (-10, -19), (-9, -19), (-8, -19), (-7, -19), (-5, -19), (-4, -19), (-3, -19), (1, -19), (8, -19), (-17, -18), (-14, -18), (-13, -18), (-12, -18), (-8, -18), (-7, -18), (-5, -18), (-4, -18), (-2, -18), (1, -18), (2, -18), (3, -18), (4, -18), (9, -18), (-17, -17), (-15, -17), (-14, -17), (-11, -17), (-10, -17), (-9, -17), (-4, -17), (-3, -17), (-2, -17), (-1, -17), (4, -17), (5, -17), (7, -17), (8, -17), (-17, -16), (-15, -16), (-14, -16), (-11, -16), (-4, -16), (-3, -16), (-2, -16), (-1, -16), (2, -16), (5, -16), (6, -16), (7, -16), (9, -16), (-17, -15), (-14, -15), (-9, -15), (-8, -15), (-7, -15), (-6, -15), (-4, -15), (-3, -15), (-2, -15), (-1, -15), (1, -15), (2, -15), (3, -15), (7, -15), (8, -15), (9, -15), (-17, -14), (-11, -14), (-6, -14), (-5, -14), (1, -14), (2, -14), (3, -14), (-17, -13), (-16, -13), (-12, -13), (-11, -13), (-10, -13), (-9, -13), (-7, -13), (-6, -13), (-5, -13), (-4, -13), (-3, -13), (-2, -13), (3, -13), (5, -13), (6, -13), (7, -13), (8, -13), (-17, -12), (-16, -12), (-15, -12), (-14, -12), (-11, -12), (-7, -12), (-5, -12), (-2, -12), (-1, -12), (3, -12), (9, -12), (-17, -11), (-15, -11), (-12, -11), (-10, -11), (-9, -11), (-1, -11), (5, -11), (9, -11), (-15, -10), (-14, -10), (-11, -10), (-3, -10), (1, -10), (4, -10), (9, -10), (-17, -9), (-16, -9), (-14, -9), (-13, -9), (-11, -9), (-8, -9), (-5, -9), (5, -9), (6, -9), (7, -9), (8, -9), (-17, -8), (-11, -8), (-9, -8), (-5, -8), (5, -8), (7, -8), (8, -8), (9, -8), (-17, -7), (-16, -7), (-15, -7), (-13, -7), (-11, -7), (-10, -7), (-9, -7), (-8, -7), (-6, -7), (3, -7), (6, -7), (9, -7), (-17, -6), (-16, -6), (-15, -6), (-11, -6), (5, -6), (7, -6), (8, -6), (-16, -5), (-15, -5), (-13, -5), (-10, -5), (-6, -5), (4, -5), (7, -5), (8, -5), (-14, -4), (-9, -4), (-7, -4), (5, -4), (6, -4), (7, -4), (8, -4), (-17, -3), (-14, -3), (-13, -3), (-10, -3), (5, -3), (7, -3), (9, -3), (-16, -2), (-13, -2), (-11, -2), (5, -2), (9, -2), (-17, -1), (-15, -1), (-14, -1), (-12, -1), (-10, -1), (-7, -1), (-5, -1), (5, -1), (8, -1), (9, -1), (-16, 0), (1, 0), (-17, 1), (-15, 1), (-14, 1), (-13, 1), (-11, 1), (-9, 1), (-5, 1), (-4, 1), (-1, 1), (0, 1), (1, 1), (2, 1), (3, 1), (5, 1), (6, 1), (7, 1), (9, 1), (-17, 2), (-15, 2), (-14, 2), (-13, 2), (-12, 2), (-7, 2), (-5, 2), (-3, 2), (1, 2), (3, 2), (5, 2), (7, 2), (-16, 3), (-14, 3), (-13, 3), (-11, 3), (-10, 3), (-8, 3), (-7, 3), (1, 3), (4, 3), (8, 3)]\n",
    "\n",
    "\n",
    "# there are 4 quadrants in a coordinate system: Q1, Q2, Q3, Q4\n",
    "# Q1 - both coordinates are positive (up right)\n",
    "# Q2 - x is positive, y is negative (bottom right)\n",
    "# Q3 - both are negative (bottom left)\n",
    "# Q4 - x is negative, y is positive (top left)\n",
    "\n"
   ]
  },
  {
   "cell_type": "code",
   "execution_count": 301,
   "metadata": {},
   "outputs": [],
   "source": [
    "# this function iterates through every vector in the vector list and adds its radian to the vector as a third property\n",
    "def add_degree(vectors):\n",
    "    vector_list = vectors\n",
    "    for ix, vector in enumerate(vector_list):\n",
    "        try:\n",
    "            degree = round(math.atan(vector[1]/vector[0]) * 180/math.pi, 6)\n",
    "        except ZeroDivisionError:\n",
    "            degree = 90.0 if vector[1] >= 0 else -90.0\n",
    "        vector_list[ix] = (vector[0], vector[1], degree)\n",
    "    return vector_list"
   ]
  },
  {
   "cell_type": "code",
   "execution_count": 302,
   "metadata": {},
   "outputs": [
    {
     "name": "stdout",
     "output_type": "stream",
     "text": [
      "296\n"
     ]
    }
   ],
   "source": [
    "# step 1: filter distance vectors to their corresponding quadrant\n",
    "\n",
    "# for this we will have to invert the y coordinates as we now need the original representation of (0, 0) instead of \n",
    "# (0, 0) being top left\n",
    "\n",
    "los_asteroid_vectors = list(map(lambda x: (x[0], x[1] * -1) ,los_asteroid_vectors))\n",
    "vectors_q1 = list(filter(lambda x: x[0] >= 0 and x[1] >= 0, los_asteroid_vectors[:]))\n",
    "vectors_q2 = list(filter(lambda x: x[0] >= 0 and x[1] < 0, los_asteroid_vectors[:]))\n",
    "vectors_q3 = list(filter(lambda x: x[0] < 0 and x[1] < 0, los_asteroid_vectors[:]))\n",
    "vectors_q4 = list(filter(lambda x: x[0] < 0 and x[1] >= 0, los_asteroid_vectors[:]))\n",
    "\n",
    "# add degree as a third tuple property\n",
    "vectors_q1 = add_degree(vectors_q1)\n",
    "vectors_q2 = add_degree(vectors_q2)\n",
    "vectors_q3 = add_degree(vectors_q3)\n",
    "vectors_q4 = add_degree(vectors_q4)\n",
    "\n",
    "# sort by degree and quadrant\n",
    "vectors_q1.sort(key=itemgetter(2), reverse=True) # 90 deg -> 0 deg\n",
    "vectors_q2.sort(key=itemgetter(2), reverse=True) # -0 deg -> -90 deg\n",
    "vectors_q3.sort(key=itemgetter(2), reverse=True) # 90 deg -> 0 deg\n",
    "vectors_q4.sort(key=itemgetter(2), reverse=True) # -0 deg -> -90 deg\n",
    "    \n",
    "# print(vectors_q1, len(vectors_q1), \"\\n\")\n",
    "# print(vectors_q2, len(vectors_q2), \"\\n\")\n",
    "# print(vectors_q3, len(vectors_q3), \"\\n\")\n",
    "# print(vectors_q4, len(vectors_q4), \"\\n\")\n",
    "\n",
    "print(len(vectors_q1) + len(vectors_q2) + len(vectors_q3) + len(vectors_q4))"
   ]
  },
  {
   "cell_type": "code",
   "execution_count": 303,
   "metadata": {
    "scrolled": false
   },
   "outputs": [
    {
     "name": "stdout",
     "output_type": "stream",
     "text": [
      "(-15, 19, -51.709837)\n"
     ]
    }
   ],
   "source": [
    "# iterate over first 200 asteroids in clockwise fashion, return the coordinates of the 200th asteroid\n",
    "next_closest_vector = None\n",
    "\n",
    "for _ in range(200):\n",
    "    if vectors_q1:\n",
    "        next_closest_vector = vectors_q1.pop(0)\n",
    "    \n",
    "    elif vectors_q2:\n",
    "        next_closest_vector = vectors_q2.pop(0)\n",
    "    \n",
    "    elif vectors_q3:\n",
    "        next_closest_vector = vectors_q3.pop(0)\n",
    "        \n",
    "    elif vectors_q4:\n",
    "        next_closest_vector = vectors_q4.pop(0)\n",
    "        \n",
    "print(next_closest_vector)"
   ]
  },
  {
   "cell_type": "code",
   "execution_count": 304,
   "metadata": {},
   "outputs": [],
   "source": [
    "# original coordinates of asteroid with the best vantage point was 17, 23\n",
    "# the vector of the 200th asteroid is (-15, 19) (from the view of (17, 13) being (0, 0))\n",
    "\n",
    "# so to attain the original coordinates, we need to subtract 15 from 17 (= 2) and 19 from 23 (= 4)\n",
    "\n",
    "# multiply 2 by 100 and add 4 => 204"
   ]
  },
  {
   "cell_type": "code",
   "execution_count": null,
   "metadata": {},
   "outputs": [],
   "source": []
  }
 ],
 "metadata": {
  "kernelspec": {
   "display_name": "Python 3",
   "language": "python",
   "name": "python3"
  },
  "language_info": {
   "codemirror_mode": {
    "name": "ipython",
    "version": 3
   },
   "file_extension": ".py",
   "mimetype": "text/x-python",
   "name": "python",
   "nbconvert_exporter": "python",
   "pygments_lexer": "ipython3",
   "version": "3.7.0"
  }
 },
 "nbformat": 4,
 "nbformat_minor": 2
}
