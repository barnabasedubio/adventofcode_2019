{
 "cells": [
  {
   "cell_type": "code",
   "execution_count": 122,
   "metadata": {},
   "outputs": [],
   "source": [
    "from aocd.models import Puzzle\n",
    "import math\n",
    "import pprint"
   ]
  },
  {
   "cell_type": "code",
   "execution_count": 123,
   "metadata": {},
   "outputs": [
    {
     "name": "stdout",
     "output_type": "stream",
     "text": [
      "['.###..#######..####..##...#',\n",
      " '########.#.###...###.#....#',\n",
      " '###..#...#######...#..####.',\n",
      " '.##.#.....#....##.#.#.....#',\n",
      " '###.#######.###..##......#.',\n",
      " '#..###..###.##.#.#####....#',\n",
      " '#.##..###....#####...##.##.',\n",
      " '####.##..#...#####.#..###.#',\n",
      " '#..#....####.####.###.#.###',\n",
      " '#..#..#....###...#####..#..',\n",
      " '##...####.######....#.####.',\n",
      " '####.##...###.####..##....#',\n",
      " '#.#..#.###.#.##.####..#...#',\n",
      " '..##..##....#.#..##..#.#..#',\n",
      " '##.##.#..######.#..#..####.',\n",
      " '#.....#####.##........#####',\n",
      " '###.#.#######..#.#.##..#..#',\n",
      " '###...#..#.#..##.##..#####.',\n",
      " '.##.#..#...#####.###.##.##.',\n",
      " '...#.#.######.#####.#.####.',\n",
      " '#..##..###...###.#.#..#.#.#',\n",
      " '.#..#.#......#.###...###..#',\n",
      " '#.##.#.#..#.#......#..#..##',\n",
      " '.##.##.##.#...##.##.##.#..#',\n",
      " '#.###.#.#...##..#####.###.#',\n",
      " '#.####.#..#.#.##.######.#..',\n",
      " '.#.#####.##...#...#.##...#.']\n"
     ]
    }
   ],
   "source": [
    "puzzle = Puzzle(2019, 10)\n",
    "puzzle_input = puzzle.input_data.split(\"\\n\")\n",
    "\n",
    "pprint.pprint(puzzle_input)"
   ]
  },
  {
   "cell_type": "code",
   "execution_count": 124,
   "metadata": {},
   "outputs": [],
   "source": [
    "def create_matrix(lst):\n",
    "    # transpose input data to make traversial easier\n",
    "    return [\"\".join(s) for s in zip(*lst)]      "
   ]
  },
  {
   "cell_type": "code",
   "execution_count": 125,
   "metadata": {},
   "outputs": [],
   "source": [
    "puzzle_matrix = create_matrix(puzzle_input)\n",
    "\n",
    "# TESTS:\n",
    "\n",
    "# (3, 4) => 8 -> works\n",
    "# puzzle_matrix = create_matrix([\".#..#\", \".....\", \"#####\", \"....#\", \"...##\"])\n",
    "\n",
    "# (5, 8) => 33 -> works\n",
    "# puzzle_matrix = create_matrix([\"......#.#.\", \"#..#.#....\", \"..#######.\", \".#.#.###..\", \".#..#.....\", \"..#....#.#\", \"#..#....#.\", \".##.#..###\", \"##...#..#.\", \".#....####\"])\n",
    "\n",
    "# (1, 2) => 35 -> works\n",
    "# puzzle_matrix = create_matrix([\"#.#...#.#.\", \".###....#.\", \".#....#...\", \"##.#.#.#.#\", \"....#.#.#.\", \".##..###.#\", \"..#...##..\", \"..##....##\", \"......#...\", \".####.###.\"])\n",
    "\n",
    "# (6, 3) => 41 -> works\n",
    "# puzzle_matrix = create_matrix([\".#..#..###\", \"####.###.#\", \"....###.#.\", \"..###.##.#\", \"##.##.#.#.\", \"....###..#\", \"..#.#..#.#\", \"#..#.#.###\", \".##...##.#\", \".....#.#..\"])\n",
    "\n",
    "# (11, 13) => 210 -> works\n",
    "# puzzle_matrix = create_matrix([\".#..##.###...#######\", \"##.############..##.\", \".#.######.########.#\", \".###.#######.####.#.\", \"#####.##.#.##.###.##\", \"..#####..#.#########\", \"####################\", \"#.####....###.#.#.##\", \"##.#################\", \"#####.##.###..####..\", \"..######..##.#######\", \"####.##.####...##..#\", \".#####..#.######.###\", \"##...#.##########...\", \"#.##########.#######\", \".####.#.###.###.#.##\", \"....##.##.###..#####\", \".#.#.###########.###\", \"#.#.#.#####.####.###\", \"###.##.####.##.#..##\"])"
   ]
  },
  {
   "cell_type": "code",
   "execution_count": 126,
   "metadata": {},
   "outputs": [],
   "source": [
    "def calculate_distance_vector(vector1, vector2):\n",
    "    return tuple([x[1] - x[0] for x in list(zip(vector1, vector2))])"
   ]
  },
  {
   "cell_type": "code",
   "execution_count": 127,
   "metadata": {},
   "outputs": [],
   "source": [
    "def standardize_vector(vector):\n",
    "    vector_length = math.sqrt(sum([x**2 for x in vector]))\n",
    "    vector = tuple([round(x / vector_length, 5) for x in vector])\n",
    "    return vector"
   ]
  },
  {
   "cell_type": "code",
   "execution_count": 128,
   "metadata": {},
   "outputs": [],
   "source": [
    "def check_if_collinear(vector1, vector2):\n",
    "    verdict = standardize_vector(vector1) == standardize_vector(vector2)\n",
    "    return verdict"
   ]
  },
  {
   "cell_type": "code",
   "execution_count": 129,
   "metadata": {},
   "outputs": [],
   "source": [
    "# this function counts all asteroids that are within LoS of another asteroid\n",
    "def count_asteroids(coords, asteroid_map):\n",
    "    \n",
    "    asteroids_discovered = 0\n",
    "    already_discovered_vectors = []\n",
    "        \n",
    "    # Scan over each element in the map (going from top left to bottom right)\n",
    "    for row in range(len(asteroid_map)):\n",
    "        for col in range(len(asteroid_map[0])):\n",
    "            if (col, row) != coords and asteroid_map[col][row] == \"#\":\n",
    "                # there is an asteroid here\n",
    "                asteroid_coords = (col, row)\n",
    "                \n",
    "                # calculate distance vector\n",
    "                distance_vector = calculate_distance_vector(coords, asteroid_coords)\n",
    "                \n",
    "                # if distance vector happens to be collinear with the vector of another asteroid you found, ignore\n",
    "                non_collinear_vector_found = True\n",
    "                for vector in already_discovered_vectors:\n",
    "                    if (check_if_collinear(vector, distance_vector)):\n",
    "                        non_collinear_vector_found = False\n",
    "                        \n",
    "                if not non_collinear_vector_found:\n",
    "                    continue\n",
    "                \n",
    "                # else add this vector to list of vectors you have already scanned, increment asteroids in LoS by 1\n",
    "                else:\n",
    "                    already_discovered_vectors.append(distance_vector)\n",
    "                    asteroids_discovered += 1\n",
    "                    \n",
    "    return asteroids_discovered"
   ]
  },
  {
   "cell_type": "code",
   "execution_count": 130,
   "metadata": {
    "scrolled": false
   },
   "outputs": [
    {
     "name": "stdout",
     "output_type": "stream",
     "text": [
      "296 (17, 23)\n"
     ]
    }
   ],
   "source": [
    "max_asteroids_in_line_of_sight = 0\n",
    "coords_of_asteroid_with_best_line_of_sight = (0, 0)\n",
    "\n",
    "# column is X, row is Y\n",
    "\n",
    "\n",
    "for row in range(len(puzzle_matrix)):\n",
    "    for col in range(len(puzzle_matrix[0])):\n",
    "        if puzzle_matrix[col][row] == \"#\": # found an asteroid, now let's scan!\n",
    "            \n",
    "            coords_tuple = (col, row)\n",
    "                       \n",
    "            asteroids_in_line_of_sight = count_asteroids(coords_tuple, puzzle_matrix)\n",
    "            \n",
    "            # print(\"found {} asteroids for asteroid at location {}\".format(asteroids_in_line_of_sight, coords_tuple))\n",
    "            \n",
    "            # update with asteroid with new best vantage point\n",
    "            if asteroids_in_line_of_sight > max_asteroids_in_line_of_sight:\n",
    "                max_asteroids_in_line_of_sight = asteroids_in_line_of_sight\n",
    "                coords_of_asteroid_with_best_line_of_sight = coords_tuple\n",
    "                \n",
    "print(max_asteroids_in_line_of_sight, coords_of_asteroid_with_best_line_of_sight)"
   ]
  },
  {
   "cell_type": "code",
   "execution_count": null,
   "metadata": {},
   "outputs": [],
   "source": []
  },
  {
   "cell_type": "code",
   "execution_count": null,
   "metadata": {},
   "outputs": [],
   "source": []
  }
 ],
 "metadata": {
  "kernelspec": {
   "display_name": "Python 3",
   "language": "python",
   "name": "python3"
  },
  "language_info": {
   "codemirror_mode": {
    "name": "ipython",
    "version": 3
   },
   "file_extension": ".py",
   "mimetype": "text/x-python",
   "name": "python",
   "nbconvert_exporter": "python",
   "pygments_lexer": "ipython3",
   "version": "3.7.0"
  }
 },
 "nbformat": 4,
 "nbformat_minor": 2
}
