{
 "cells": [
  {
   "cell_type": "code",
   "execution_count": 1,
   "metadata": {},
   "outputs": [],
   "source": [
    "from aocd.models import Puzzle"
   ]
  },
  {
   "cell_type": "code",
   "execution_count": 2,
   "metadata": {},
   "outputs": [],
   "source": [
    "puzzle = Puzzle(2019, 6)\n",
    "puzzle_input = puzzle.input_data"
   ]
  },
  {
   "cell_type": "code",
   "execution_count": 3,
   "metadata": {},
   "outputs": [],
   "source": [
    "puzzle_input = puzzle_input.split(\"\\n\")\n",
    "puzzle_input = [tuple(x.split(\")\")) for x in puzzle_input]"
   ]
  },
  {
   "cell_type": "code",
   "execution_count": 4,
   "metadata": {},
   "outputs": [],
   "source": [
    "orbit_map = puzzle_input"
   ]
  },
  {
   "cell_type": "code",
   "execution_count": 5,
   "metadata": {},
   "outputs": [],
   "source": [
    "orbiters = []\n",
    "\n",
    "for orbit in orbit_map:\n",
    "    orbiters.append(orbit[1])"
   ]
  },
  {
   "cell_type": "code",
   "execution_count": 6,
   "metadata": {},
   "outputs": [],
   "source": [
    "def find_orbitee(orbiter, orbit_list):\n",
    "    # find what the celestial body being orbited is, for a given orbiter\n",
    "    for orbit in orbit_list:\n",
    "        if orbit[1] == orbiter:\n",
    "            return orbit[0]\n",
    "    return None"
   ]
  },
  {
   "cell_type": "code",
   "execution_count": 7,
   "metadata": {},
   "outputs": [
    {
     "data": {
      "text/plain": [
       "'7DG'"
      ]
     },
     "execution_count": 7,
     "metadata": {},
     "output_type": "execute_result"
    }
   ],
   "source": [
    "find_orbitee(\"RN2\", orbit_map)"
   ]
  },
  {
   "cell_type": "code",
   "execution_count": 8,
   "metadata": {},
   "outputs": [],
   "source": [
    "total_orbits = 0"
   ]
  },
  {
   "cell_type": "code",
   "execution_count": 9,
   "metadata": {},
   "outputs": [],
   "source": [
    "for orbiter in orbiters:\n",
    "    orbitee = find_orbitee(orbiter, orbit_map)\n",
    "    while orbitee != None:\n",
    "        total_orbits += 1\n",
    "        orbitee = find_orbitee(orbitee, orbit_map)"
   ]
  },
  {
   "cell_type": "code",
   "execution_count": 10,
   "metadata": {},
   "outputs": [
    {
     "data": {
      "text/plain": [
       "147807"
      ]
     },
     "execution_count": 10,
     "metadata": {},
     "output_type": "execute_result"
    }
   ],
   "source": [
    "total_orbits"
   ]
  },
  {
   "cell_type": "code",
   "execution_count": 11,
   "metadata": {},
   "outputs": [],
   "source": [
    "# THAT WAS THE CORRECT ANSWER! NOW TO PART B!"
   ]
  },
  {
   "cell_type": "code",
   "execution_count": 12,
   "metadata": {},
   "outputs": [],
   "source": [
    "test_orbits = [\n",
    "    ('COM', 'B'),\n",
    "    ('B', 'C'),\n",
    "    ('C', 'D'),\n",
    "    ('D', 'E'),\n",
    "    ('E', 'F'),\n",
    "    ('B', 'G'),\n",
    "    ('G', 'H'),\n",
    "    ('D', 'I'),\n",
    "    ('E', 'J'),\n",
    "    ('J', 'K'),\n",
    "    ('K', 'L'),\n",
    "    ('K', 'YOU'),\n",
    "    ('I', 'SAN')\n",
    "]"
   ]
  },
  {
   "cell_type": "code",
   "execution_count": 13,
   "metadata": {},
   "outputs": [],
   "source": [
    "my_position = \"YOU\"\n",
    "santas_position = \"SAN\""
   ]
  },
  {
   "cell_type": "code",
   "execution_count": 14,
   "metadata": {},
   "outputs": [],
   "source": [
    "def find_route_to_com(position):    \n",
    "    route_list = []\n",
    "    orbitee = find_orbitee(position, orbit_map)\n",
    "    while orbitee:\n",
    "        route_list.append(orbitee)\n",
    "        position = orbitee\n",
    "        orbitee = find_orbitee(position, orbit_map)\n",
    "    return route_list"
   ]
  },
  {
   "cell_type": "code",
   "execution_count": 15,
   "metadata": {},
   "outputs": [],
   "source": [
    "my_route_to_com = find_route_to_com(my_position)"
   ]
  },
  {
   "cell_type": "code",
   "execution_count": 16,
   "metadata": {},
   "outputs": [],
   "source": [
    "santas_route_to_com = find_route_to_com(santas_position)"
   ]
  },
  {
   "cell_type": "code",
   "execution_count": 17,
   "metadata": {
    "scrolled": true
   },
   "outputs": [],
   "source": [
    "intersections = [obj for obj in my_route_to_com if obj in santas_route_to_com]"
   ]
  },
  {
   "cell_type": "code",
   "execution_count": 18,
   "metadata": {},
   "outputs": [
    {
     "data": {
      "text/plain": [
       "'BX1'"
      ]
     },
     "execution_count": 18,
     "metadata": {},
     "output_type": "execute_result"
    }
   ],
   "source": [
    "nearest_intersection = intersections[0]\n",
    "nearest_intersection"
   ]
  },
  {
   "cell_type": "code",
   "execution_count": 19,
   "metadata": {},
   "outputs": [],
   "source": [
    "# calculate amount of my jumps to the nearest intersection\n",
    "\n",
    "def calculate_jumps_to_intersection(intersection, route):\n",
    "    for jumps, obj in enumerate(route):\n",
    "        if obj == intersection:\n",
    "            return jumps"
   ]
  },
  {
   "cell_type": "code",
   "execution_count": 20,
   "metadata": {},
   "outputs": [
    {
     "data": {
      "text/plain": [
       "167"
      ]
     },
     "execution_count": 20,
     "metadata": {},
     "output_type": "execute_result"
    }
   ],
   "source": [
    "my_jumps = calculate_jumps_to_intersection(nearest_intersection, my_route_to_com)\n",
    "my_jumps"
   ]
  },
  {
   "cell_type": "code",
   "execution_count": 21,
   "metadata": {},
   "outputs": [
    {
     "data": {
      "text/plain": [
       "62"
      ]
     },
     "execution_count": 21,
     "metadata": {},
     "output_type": "execute_result"
    }
   ],
   "source": [
    "santas_jumps = calculate_jumps_to_intersection(nearest_intersection, santas_route_to_com)\n",
    "santas_jumps"
   ]
  },
  {
   "cell_type": "code",
   "execution_count": 22,
   "metadata": {},
   "outputs": [],
   "source": [
    "total_jumps = my_jumps + santas_jumps"
   ]
  },
  {
   "cell_type": "code",
   "execution_count": 23,
   "metadata": {},
   "outputs": [
    {
     "data": {
      "text/plain": [
       "229"
      ]
     },
     "execution_count": 23,
     "metadata": {},
     "output_type": "execute_result"
    }
   ],
   "source": [
    "total_jumps"
   ]
  },
  {
   "cell_type": "code",
   "execution_count": 24,
   "metadata": {},
   "outputs": [],
   "source": [
    "# CORRECT AS WELL! WE ARE ON FIRE!!!!!!"
   ]
  }
 ],
 "metadata": {
  "kernelspec": {
   "display_name": "Python 3",
   "language": "python",
   "name": "python3"
  },
  "language_info": {
   "codemirror_mode": {
    "name": "ipython",
    "version": 3
   },
   "file_extension": ".py",
   "mimetype": "text/x-python",
   "name": "python",
   "nbconvert_exporter": "python",
   "pygments_lexer": "ipython3",
   "version": "3.7.0"
  }
 },
 "nbformat": 4,
 "nbformat_minor": 2
}
