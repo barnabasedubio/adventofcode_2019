{
 "cells": [
  {
   "cell_type": "code",
   "execution_count": 4,
   "metadata": {},
   "outputs": [],
   "source": [
    "from aocd import submit"
   ]
  },
  {
   "cell_type": "code",
   "execution_count": 5,
   "metadata": {},
   "outputs": [],
   "source": [
    "from aocd.models import Puzzle"
   ]
  },
  {
   "cell_type": "code",
   "execution_count": null,
   "metadata": {},
   "outputs": [],
   "source": []
  },
  {
   "cell_type": "code",
   "execution_count": 6,
   "metadata": {},
   "outputs": [],
   "source": [
    "puzzle = Puzzle(year=2019, day=1)"
   ]
  },
  {
   "cell_type": "code",
   "execution_count": 7,
   "metadata": {},
   "outputs": [
    {
     "data": {
      "text/plain": [
       "'56583\\n83363\\n127502\\n138143\\n113987\\n147407\\n111181\\n92655\\n79802\\n64636\\n108805\\n148885\\n51022\\n120002\\n52283\\n53573\\n142374\\n143523\\n121158\\n63332\\n63203\\n142400\\n105515\\n140150\\n89910\\n93081\\n129752\\n86731\\n128755\\n134756\\n131066\\n77990\\n77081\\n85779\\n137271\\n72889\\n117608\\n132442\\n115294\\n59414\\n75495\\n79459\\n107669\\n81496\\n144432\\n69138\\n53410\\n71199\\n141799\\n63964\\n110945\\n102174\\n87697\\n88838\\n93552\\n145531\\n54602\\n65080\\n66865\\n139693\\n98048\\n60409\\n88384\\n138807\\n130854\\n75997\\n130900\\n125974\\n129123\\n93480\\n86042\\n128187\\n74981\\n88144\\n96629\\n148836\\n124473\\n57616\\n93477\\n104174\\n97407\\n123017\\n85408\\n64862\\n85298\\n88142\\n62182\\n128983\\n62981\\n124580\\n56339\\n94335\\n125521\\n121373\\n78777\\n125132\\n94411\\n57789\\n97384\\n79900'"
      ]
     },
     "execution_count": 7,
     "metadata": {},
     "output_type": "execute_result"
    }
   ],
   "source": [
    "puzzle.input_data"
   ]
  },
  {
   "cell_type": "code",
   "execution_count": 8,
   "metadata": {},
   "outputs": [],
   "source": [
    "input_list = [puzzle.input_data.split(\"\\n\")]"
   ]
  },
  {
   "cell_type": "code",
   "execution_count": 19,
   "metadata": {},
   "outputs": [],
   "source": [
    "input_list = input_list[0]"
   ]
  },
  {
   "cell_type": "code",
   "execution_count": 20,
   "metadata": {},
   "outputs": [
    {
     "data": {
      "text/plain": [
       "100"
      ]
     },
     "execution_count": 20,
     "metadata": {},
     "output_type": "execute_result"
    }
   ],
   "source": [
    "len(input_list)"
   ]
  },
  {
   "cell_type": "code",
   "execution_count": 26,
   "metadata": {},
   "outputs": [],
   "source": [
    "input_list = [int(x) for x in input_list]"
   ]
  },
  {
   "cell_type": "code",
   "execution_count": 23,
   "metadata": {},
   "outputs": [],
   "source": [
    "sum_of_fuel_requirements = sum([int(int(x)/3) - 2 for x in input_list])"
   ]
  },
  {
   "cell_type": "code",
   "execution_count": 24,
   "metadata": {},
   "outputs": [
    {
     "data": {
      "text/plain": [
       "3303995"
      ]
     },
     "execution_count": 24,
     "metadata": {},
     "output_type": "execute_result"
    }
   ],
   "source": [
    "sum_of_fuel_requirements"
   ]
  },
  {
   "cell_type": "code",
   "execution_count": 25,
   "metadata": {},
   "outputs": [
    {
     "name": "stdout",
     "output_type": "stream",
     "text": [
      "That's the right answer!  You are one gold star closer to rescuing Santa. [Continue to Part Two]\n"
     ]
    },
    {
     "data": {
      "text/plain": [
       "<Response [200]>"
      ]
     },
     "execution_count": 25,
     "metadata": {},
     "output_type": "execute_result"
    }
   ],
   "source": [
    "submit(sum_of_fuel_requirements, part=\"a\", day=1, year=2019)"
   ]
  },
  {
   "cell_type": "code",
   "execution_count": 47,
   "metadata": {},
   "outputs": [],
   "source": [
    "def calculate_fuel(weight):\n",
    "    if int(weight/3) - 2 > 0: return int(weight/3) - 2\n",
    "    else: return 0"
   ]
  },
  {
   "cell_type": "code",
   "execution_count": 60,
   "metadata": {},
   "outputs": [],
   "source": [
    "def calculate_module_fuel(weight):  \n",
    "    fuel_cost = calculate_fuel(weight)\n",
    "    fuel_iterator = fuel_cost\n",
    "    while fuel_iterator > 0:\n",
    "        fuel_iterator = calculate_fuel(fuel_iterator)\n",
    "        fuel_cost += fuel_iterator\n",
    "    return fuel_cost"
   ]
  },
  {
   "cell_type": "code",
   "execution_count": 61,
   "metadata": {},
   "outputs": [],
   "source": [
    "total_sum_of_fuel_cost = sum([calculate_module_fuel(x) for x in input_list])"
   ]
  },
  {
   "cell_type": "code",
   "execution_count": 65,
   "metadata": {},
   "outputs": [
    {
     "name": "stdout",
     "output_type": "stream",
     "text": [
      "You don't seem to be solving the right level.  Did you already complete it? [Return to Day 1]\n"
     ]
    },
    {
     "data": {
      "text/plain": [
       "<Response [200]>"
      ]
     },
     "execution_count": 65,
     "metadata": {},
     "output_type": "execute_result"
    }
   ],
   "source": [
    "submit(total_sum_of_fuel_cost, part=\"b\", day=1, year=2019)"
   ]
  }
 ],
 "metadata": {
  "kernelspec": {
   "display_name": "Python 3",
   "language": "python",
   "name": "python3"
  },
  "language_info": {
   "codemirror_mode": {
    "name": "ipython",
    "version": 3
   },
   "file_extension": ".py",
   "mimetype": "text/x-python",
   "name": "python",
   "nbconvert_exporter": "python",
   "pygments_lexer": "ipython3",
   "version": "3.7.0"
  }
 },
 "nbformat": 4,
 "nbformat_minor": 2
}
