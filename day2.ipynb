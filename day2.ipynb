{
 "cells": [
  {
   "cell_type": "code",
   "execution_count": 1,
   "metadata": {},
   "outputs": [],
   "source": [
    "from aocd import submit"
   ]
  },
  {
   "cell_type": "code",
   "execution_count": 2,
   "metadata": {},
   "outputs": [],
   "source": [
    "from aocd.models import Puzzle"
   ]
  },
  {
   "cell_type": "code",
   "execution_count": 3,
   "metadata": {},
   "outputs": [],
   "source": [
    "puzzle = Puzzle(2019, 2)"
   ]
  },
  {
   "cell_type": "code",
   "execution_count": 250,
   "metadata": {},
   "outputs": [],
   "source": [
    "puzzle_input_data = puzzle.input_data"
   ]
  },
  {
   "cell_type": "code",
   "execution_count": 251,
   "metadata": {},
   "outputs": [
    {
     "data": {
      "text/plain": [
       "'1,0,0,3,1,1,2,3,1,3,4,3,1,5,0,3,2,10,1,19,1,19,6,23,2,13,23,27,1,27,13,31,1,9,31,35,1,35,9,39,1,39,5,43,2,6,43,47,1,47,6,51,2,51,9,55,2,55,13,59,1,59,6,63,1,10,63,67,2,67,9,71,2,6,71,75,1,75,5,79,2,79,10,83,1,5,83,87,2,9,87,91,1,5,91,95,2,13,95,99,1,99,10,103,1,103,2,107,1,107,6,0,99,2,14,0,0'"
      ]
     },
     "execution_count": 251,
     "metadata": {},
     "output_type": "execute_result"
    }
   ],
   "source": [
    "puzzle_input_data"
   ]
  },
  {
   "cell_type": "code",
   "execution_count": 252,
   "metadata": {},
   "outputs": [],
   "source": [
    "input_data = [int(x) for x in puzzle_input_data.split(\",\")]"
   ]
  },
  {
   "cell_type": "code",
   "execution_count": 253,
   "metadata": {},
   "outputs": [],
   "source": [
    "def intcode_computer(program):\n",
    "    \n",
    "    for ix in range(0, len(program), 4):\n",
    "        # halting condition\n",
    "        if program[ix] == 99:\n",
    "            break\n",
    "            \n",
    "        val1 = program[program[ix+1]]\n",
    "        val2 = program[program[ix+2]]\n",
    "        \n",
    "        if program[ix] == 1: # addition\n",
    "            program[program[ix+3]] = val1 + val2\n",
    "            \n",
    "        elif program[ix] == 2: # multiplication\n",
    "            program[program[ix+3]] = val1 * val2\n",
    "\n",
    "    return program"
   ]
  },
  {
   "cell_type": "code",
   "execution_count": 254,
   "metadata": {},
   "outputs": [
    {
     "name": "stdout",
     "output_type": "stream",
     "text": [
      "[30, 1, 1, 4, 2, 5, 6, 0, 99]\n"
     ]
    }
   ],
   "source": [
    "print(intcode_computer([1,1,1,4,99,5,6,0,99]))"
   ]
  },
  {
   "cell_type": "code",
   "execution_count": 255,
   "metadata": {},
   "outputs": [],
   "source": [
    "submit_input_data = input_data"
   ]
  },
  {
   "cell_type": "code",
   "execution_count": 256,
   "metadata": {},
   "outputs": [],
   "source": [
    "submit_input_data[1] = 12\n",
    "submit_input_data[2] = 2"
   ]
  },
  {
   "cell_type": "code",
   "execution_count": 257,
   "metadata": {
    "scrolled": true
   },
   "outputs": [
    {
     "data": {
      "text/plain": [
       "[2842648,\n",
       " 12,\n",
       " 2,\n",
       " 2,\n",
       " 1,\n",
       " 1,\n",
       " 2,\n",
       " 3,\n",
       " 1,\n",
       " 3,\n",
       " 4,\n",
       " 3,\n",
       " 1,\n",
       " 5,\n",
       " 0,\n",
       " 3,\n",
       " 2,\n",
       " 10,\n",
       " 1,\n",
       " 48,\n",
       " 1,\n",
       " 19,\n",
       " 6,\n",
       " 50,\n",
       " 2,\n",
       " 13,\n",
       " 23,\n",
       " 250,\n",
       " 1,\n",
       " 27,\n",
       " 13,\n",
       " 255,\n",
       " 1,\n",
       " 9,\n",
       " 31,\n",
       " 258,\n",
       " 1,\n",
       " 35,\n",
       " 9,\n",
       " 261,\n",
       " 1,\n",
       " 39,\n",
       " 5,\n",
       " 262,\n",
       " 2,\n",
       " 6,\n",
       " 43,\n",
       " 524,\n",
       " 1,\n",
       " 47,\n",
       " 6,\n",
       " 526,\n",
       " 2,\n",
       " 51,\n",
       " 9,\n",
       " 1578,\n",
       " 2,\n",
       " 55,\n",
       " 13,\n",
       " 7890,\n",
       " 1,\n",
       " 59,\n",
       " 6,\n",
       " 7892,\n",
       " 1,\n",
       " 10,\n",
       " 63,\n",
       " 7896,\n",
       " 2,\n",
       " 67,\n",
       " 9,\n",
       " 23688,\n",
       " 2,\n",
       " 6,\n",
       " 71,\n",
       " 47376,\n",
       " 1,\n",
       " 75,\n",
       " 5,\n",
       " 47377,\n",
       " 2,\n",
       " 79,\n",
       " 10,\n",
       " 189508,\n",
       " 1,\n",
       " 5,\n",
       " 83,\n",
       " 189509,\n",
       " 2,\n",
       " 9,\n",
       " 87,\n",
       " 568527,\n",
       " 1,\n",
       " 5,\n",
       " 91,\n",
       " 568528,\n",
       " 2,\n",
       " 13,\n",
       " 95,\n",
       " 2842640,\n",
       " 1,\n",
       " 99,\n",
       " 10,\n",
       " 2842644,\n",
       " 1,\n",
       " 103,\n",
       " 2,\n",
       " 2842646,\n",
       " 1,\n",
       " 107,\n",
       " 6,\n",
       " 0,\n",
       " 99,\n",
       " 2,\n",
       " 14,\n",
       " 0,\n",
       " 0]"
      ]
     },
     "execution_count": 257,
     "metadata": {},
     "output_type": "execute_result"
    }
   ],
   "source": [
    "submit_input_data = intcode_computer(submit_input_data)\n",
    "submit_input_data"
   ]
  },
  {
   "cell_type": "code",
   "execution_count": 199,
   "metadata": {},
   "outputs": [],
   "source": [
    "# part 2"
   ]
  },
  {
   "cell_type": "code",
   "execution_count": 200,
   "metadata": {},
   "outputs": [],
   "source": [
    "def reset(input_data):\n",
    "    puzzle_input_data = puzzle.input_data\n",
    "    input_data = [int(x) for x in puzzle_input_data.split(\",\")]\n",
    "    return input_data"
   ]
  },
  {
   "cell_type": "code",
   "execution_count": 239,
   "metadata": {},
   "outputs": [],
   "source": [
    "submit_input_data = reset(submit_input_data)"
   ]
  },
  {
   "cell_type": "code",
   "execution_count": 240,
   "metadata": {},
   "outputs": [],
   "source": [
    "def get_noun_and_verb(intcode, desired_output):  \n",
    "    for noun in range(100):\n",
    "        for verb in range(100):\n",
    "            intcode[1] = noun\n",
    "            intcode[2] = verb\n",
    "            intcode = intcode_computer(intcode)\n",
    "            if intcode[0] ==  desired_output:\n",
    "                print(\"DONE\")\n",
    "                return (intcode[:3])\n",
    "            else: intcode = reset(intcode)"
   ]
  },
  {
   "cell_type": "code",
   "execution_count": 241,
   "metadata": {},
   "outputs": [
    {
     "name": "stdout",
     "output_type": "stream",
     "text": [
      "DONE\n"
     ]
    }
   ],
   "source": [
    "intcode_result, noun, verb = get_noun_and_verb(submit_input_data, 19690720)"
   ]
  },
  {
   "cell_type": "code",
   "execution_count": 242,
   "metadata": {},
   "outputs": [
    {
     "data": {
      "text/plain": [
       "(19690720, 90, 74)"
      ]
     },
     "execution_count": 242,
     "metadata": {},
     "output_type": "execute_result"
    }
   ],
   "source": [
    "intcode_result, noun, verb"
   ]
  },
  {
   "cell_type": "code",
   "execution_count": 243,
   "metadata": {},
   "outputs": [],
   "source": [
    "solution = 100 * noun + verb"
   ]
  },
  {
   "cell_type": "code",
   "execution_count": 244,
   "metadata": {},
   "outputs": [
    {
     "name": "stdout",
     "output_type": "stream",
     "text": [
      "That's the right answer!  You are one gold star closer to rescuing Santa.You have completed Day 2! You can [Shareon\n",
      "  Twitter\n",
      "Mastodon] this victory or [Return to Your Advent Calendar].\n"
     ]
    },
    {
     "data": {
      "text/plain": [
       "<Response [200]>"
      ]
     },
     "execution_count": 244,
     "metadata": {},
     "output_type": "execute_result"
    }
   ],
   "source": [
    "submit(solution, part=\"b\", day=2, year=2019)"
   ]
  },
  {
   "cell_type": "code",
   "execution_count": null,
   "metadata": {},
   "outputs": [],
   "source": []
  }
 ],
 "metadata": {
  "kernelspec": {
   "display_name": "Python 3",
   "language": "python",
   "name": "python3"
  },
  "language_info": {
   "codemirror_mode": {
    "name": "ipython",
    "version": 3
   },
   "file_extension": ".py",
   "mimetype": "text/x-python",
   "name": "python",
   "nbconvert_exporter": "python",
   "pygments_lexer": "ipython3",
   "version": "3.7.0"
  }
 },
 "nbformat": 4,
 "nbformat_minor": 2
}
