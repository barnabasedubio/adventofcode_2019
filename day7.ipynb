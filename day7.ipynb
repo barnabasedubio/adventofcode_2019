{
 "cells": [
  {
   "cell_type": "code",
   "execution_count": 37,
   "metadata": {},
   "outputs": [],
   "source": [
    "from aocd import submit\n",
    "from aocd.models import Puzzle\n",
    "import math\n",
    "import numpy as np"
   ]
  },
  {
   "cell_type": "code",
   "execution_count": 3,
   "metadata": {},
   "outputs": [],
   "source": [
    "puzzle = Puzzle(2019, 7)\n",
    "puzzle_input = [int(x) for x in puzzle.input_data.split(\",\")]"
   ]
  },
  {
   "cell_type": "code",
   "execution_count": 4,
   "metadata": {},
   "outputs": [
    {
     "name": "stdout",
     "output_type": "stream",
     "text": [
      "[3, 8, 1001, 8, 10, 8, 105, 1, 0, 0, 21, 42, 51, 76, 101, 118, 199, 280, 361, 442, 99999, 3, 9, 101, 5, 9, 9, 102, 2, 9, 9, 1001, 9, 4, 9, 102, 2, 9, 9, 4, 9, 99, 3, 9, 1002, 9, 3, 9, 4, 9, 99, 3, 9, 1002, 9, 4, 9, 1001, 9, 3, 9, 1002, 9, 5, 9, 101, 3, 9, 9, 1002, 9, 2, 9, 4, 9, 99, 3, 9, 101, 4, 9, 9, 1002, 9, 2, 9, 1001, 9, 3, 9, 1002, 9, 3, 9, 101, 4, 9, 9, 4, 9, 99, 3, 9, 101, 3, 9, 9, 1002, 9, 3, 9, 101, 2, 9, 9, 4, 9, 99, 3, 9, 1002, 9, 2, 9, 4, 9, 3, 9, 1001, 9, 2, 9, 4, 9, 3, 9, 1002, 9, 2, 9, 4, 9, 3, 9, 102, 2, 9, 9, 4, 9, 3, 9, 1002, 9, 2, 9, 4, 9, 3, 9, 1001, 9, 2, 9, 4, 9, 3, 9, 101, 2, 9, 9, 4, 9, 3, 9, 1002, 9, 2, 9, 4, 9, 3, 9, 1002, 9, 2, 9, 4, 9, 3, 9, 1001, 9, 1, 9, 4, 9, 99, 3, 9, 1001, 9, 1, 9, 4, 9, 3, 9, 1002, 9, 2, 9, 4, 9, 3, 9, 1001, 9, 1, 9, 4, 9, 3, 9, 101, 1, 9, 9, 4, 9, 3, 9, 1001, 9, 1, 9, 4, 9, 3, 9, 101, 2, 9, 9, 4, 9, 3, 9, 1002, 9, 2, 9, 4, 9, 3, 9, 1001, 9, 2, 9, 4, 9, 3, 9, 101, 2, 9, 9, 4, 9, 3, 9, 1002, 9, 2, 9, 4, 9, 99, 3, 9, 1002, 9, 2, 9, 4, 9, 3, 9, 101, 1, 9, 9, 4, 9, 3, 9, 1002, 9, 2, 9, 4, 9, 3, 9, 102, 2, 9, 9, 4, 9, 3, 9, 1001, 9, 1, 9, 4, 9, 3, 9, 101, 1, 9, 9, 4, 9, 3, 9, 102, 2, 9, 9, 4, 9, 3, 9, 1002, 9, 2, 9, 4, 9, 3, 9, 1002, 9, 2, 9, 4, 9, 3, 9, 101, 2, 9, 9, 4, 9, 99, 3, 9, 1002, 9, 2, 9, 4, 9, 3, 9, 1001, 9, 1, 9, 4, 9, 3, 9, 1002, 9, 2, 9, 4, 9, 3, 9, 1002, 9, 2, 9, 4, 9, 3, 9, 1002, 9, 2, 9, 4, 9, 3, 9, 1002, 9, 2, 9, 4, 9, 3, 9, 102, 2, 9, 9, 4, 9, 3, 9, 1001, 9, 2, 9, 4, 9, 3, 9, 101, 2, 9, 9, 4, 9, 3, 9, 101, 1, 9, 9, 4, 9, 99, 3, 9, 1002, 9, 2, 9, 4, 9, 3, 9, 101, 1, 9, 9, 4, 9, 3, 9, 102, 2, 9, 9, 4, 9, 3, 9, 102, 2, 9, 9, 4, 9, 3, 9, 102, 2, 9, 9, 4, 9, 3, 9, 1001, 9, 1, 9, 4, 9, 3, 9, 1001, 9, 1, 9, 4, 9, 3, 9, 101, 2, 9, 9, 4, 9, 3, 9, 1002, 9, 2, 9, 4, 9, 3, 9, 101, 2, 9, 9, 4, 9, 99]\n"
     ]
    }
   ],
   "source": [
    "print(puzzle_input)"
   ]
  },
  {
   "cell_type": "code",
   "execution_count": 5,
   "metadata": {},
   "outputs": [],
   "source": [
    "# memory should not be shared or reused between copies of the program\n",
    "def clear_memory(program):\n",
    "    return[int(x) for x in puzzle.input_data.split(\",\")]"
   ]
  },
  {
   "cell_type": "code",
   "execution_count": 6,
   "metadata": {},
   "outputs": [],
   "source": [
    "def string_only_contains_phase_setting_digits(string, validator):\n",
    "    for elem in string:\n",
    "        if int(elem) not in validator:\n",
    "            return False\n",
    "    return True"
   ]
  },
  {
   "cell_type": "code",
   "execution_count": 7,
   "metadata": {},
   "outputs": [],
   "source": [
    "def string_is_unique(string):\n",
    "    if len(list(string)) == len(set(string)):\n",
    "        return True\n",
    "    return False"
   ]
  },
  {
   "cell_type": "code",
   "execution_count": 8,
   "metadata": {},
   "outputs": [],
   "source": [
    "# generate array containing all different concatenations of [0,1,2,3,4] in a sequence\n",
    "# 5! equals 120\n",
    "\n",
    "# dont forget these numbers can only be used once!\n",
    "\n",
    "phase_settings = (0, 1, 2, 3, 4)\n",
    "\n",
    "concatenations = []\n",
    "\n",
    "for sequence in range(1234, 43211): # 43211 because '43210' should be included as well\n",
    "    sequence_string = str(sequence)\n",
    "    if len(sequence_string) == 4: \n",
    "        sequence_string = \"0\" + sequence_string # sequence string must contain all digits\n",
    "    \n",
    "    if string_only_contains_phase_setting_digits(sequence_string, phase_settings) and string_is_unique(sequence_string):\n",
    "        concatenations.append(sequence_string)\n",
    "    "
   ]
  },
  {
   "cell_type": "code",
   "execution_count": 9,
   "metadata": {},
   "outputs": [
    {
     "name": "stdout",
     "output_type": "stream",
     "text": [
      "['01234', '01243', '01324', '01342', '01423', '01432', '02134', '02143', '02314', '02341', '02413', '02431', '03124', '03142', '03214', '03241', '03412', '03421', '04123', '04132', '04213', '04231', '04312', '04321', '10234', '10243', '10324', '10342', '10423', '10432', '12034', '12043', '12304', '12340', '12403', '12430', '13024', '13042', '13204', '13240', '13402', '13420', '14023', '14032', '14203', '14230', '14302', '14320', '20134', '20143', '20314', '20341', '20413', '20431', '21034', '21043', '21304', '21340', '21403', '21430', '23014', '23041', '23104', '23140', '23401', '23410', '24013', '24031', '24103', '24130', '24301', '24310', '30124', '30142', '30214', '30241', '30412', '30421', '31024', '31042', '31204', '31240', '31402', '31420', '32014', '32041', '32104', '32140', '32401', '32410', '34012', '34021', '34102', '34120', '34201', '34210', '40123', '40132', '40213', '40231', '40312', '40321', '41023', '41032', '41203', '41230', '41302', '41320', '42013', '42031', '42103', '42130', '42301', '42310', '43012', '43021', '43102', '43120', '43201', '43210']\n",
      "length: 120\n"
     ]
    }
   ],
   "source": [
    "print(concatenations)\n",
    "print(\"length: {}\".format(len(concatenations)))"
   ]
  },
  {
   "cell_type": "code",
   "execution_count": 10,
   "metadata": {},
   "outputs": [],
   "source": [
    "# Now I have a list of Strings. Now it's time to run the intcode computer with the params"
   ]
  },
  {
   "cell_type": "code",
   "execution_count": 11,
   "metadata": {},
   "outputs": [],
   "source": [
    "# modify your intcode computer from day 2\n",
    "\n",
    "def get_opcode(value):\n",
    "    # the opcode is the rightmost two digits of the first value in an instruction\n",
    "    if len(str(value)) == 1: return value\n",
    "    if len(str(value)) == 2: return int(str(value[1])) if str(value).startswith(\"0\") else value\n",
    "    else: return int(str(value)[len(str(value))-2:])\n",
    "    \n",
    "    \n",
    "def intcode_computer(program, input_values, instruction_pointer_location):\n",
    "    \n",
    "    # map opcodes to parameter count\n",
    "    opcode_parameter_map = dict()\n",
    "    opcode_parameter_map[\"1\"] = 3 # addition: summand1, summand2, adress of sum\n",
    "    opcode_parameter_map[\"2\"] = 3 # multiplication: factor1, factor2, adress of product\n",
    "    opcode_parameter_map[\"3\"] = 1 # input: where to store input address\n",
    "    opcode_parameter_map[\"4\"] = 1 # output: where to read output address\n",
    "    opcode_parameter_map[\"5\"] = 2 # jump-if-true: compare boolean of 2 parameters\n",
    "    opcode_parameter_map[\"6\"] = 2 # jump-if-false: compare boolean of 2 parameters\n",
    "    opcode_parameter_map[\"7\"] = 3 # less-than: compare values from 2 parameters, store 1 in position of third\n",
    "    opcode_parameter_map[\"8\"] = 3 # equals: compare values from 2 parameters, store 1 in position of third\n",
    "    \n",
    "    output_value = None\n",
    "    \n",
    "    ip = instruction_pointer_location # instruction pointer\n",
    "    \n",
    "    while True:\n",
    "        # program[ip] is always the first value of the instruction. It contains the opcode and the parameter modes.\n",
    "        # it is an integer.\n",
    "        \n",
    "        opcode = get_opcode(program[ip])\n",
    "        \n",
    "        #print(\"instruction value: {}; opcode: {}\".format(program[ip], opcode))\n",
    "        \n",
    "        first_instruction_value_string = str(program[ip]) \n",
    "        \n",
    "        # halt\n",
    "        if opcode == 99: break\n",
    "            \n",
    "        # addition \n",
    "        elif opcode == 1:\n",
    "            while len(first_instruction_value_string) < 5: # 3 digits of parameter modes + 2 digits of opcode\n",
    "                first_instruction_value_string = \"0\" + first_instruction_value_string\n",
    "                # print(first_instruction_value_string)\n",
    "            \n",
    "            # determine parameter modes\n",
    "            first_instruction_value_string = first_instruction_value_string[:-2] # we dont need opcode anymore\n",
    "            \n",
    "            # value is immediate if parameter mode -> position mode, else value is in address\n",
    "            val1 = program[ip+1] if int(first_instruction_value_string[-1]) else program[program[ip+1]]\n",
    "            val2 = program[ip+2] if int(first_instruction_value_string[-2]) else program[program[ip+2]]\n",
    "            program[program[ip+3]] = val1 + val2\n",
    "            \n",
    "            ip += opcode_parameter_map[\"1\"] + 1\n",
    "            \n",
    "        # multiplication   \n",
    "        elif opcode == 2:\n",
    "            while len(first_instruction_value_string) < 5: # 3 digits of parameter modes + 2 digits of opcode\n",
    "                first_instruction_value_string = \"0\" + first_instruction_value_string\n",
    "                \n",
    "            # determine parameter modes\n",
    "            first_instruction_value_string = first_instruction_value_string[:-2] # we dont need opcode anymore\n",
    "            \n",
    "            val1 = program[ip+1] if int(first_instruction_value_string[-1]) else program[program[ip+1]]\n",
    "            val2 = program[ip+2] if int(first_instruction_value_string[-2]) else program[program[ip+2]]\n",
    "            program[program[ip+3]] = val1 * val2\n",
    "            \n",
    "            ip += opcode_parameter_map[\"2\"] + 1\n",
    "            \n",
    "        # store value\n",
    "        elif opcode == 3:\n",
    "            # Parameters that an instruction writes to will never be in immediate mode\n",
    "            # so the input is always in position mode\n",
    "            program[program[ip+1]] = input_values.pop(0)\n",
    "            ip += opcode_parameter_map[\"3\"] + 1\n",
    "        \n",
    "        # output value\n",
    "        elif opcode == 4:\n",
    "            # i believe it is either possible to output the value at an address, or to output an immediate\n",
    "            # value. Hence, the differentiation is needed here (even though it might be unnecessary)\n",
    "            \n",
    "            while len(first_instruction_value_string) < 3: # 1 digits of parameter modes + 2 digits of opcode\n",
    "                first_instruction_value_string = \"0\" + first_instruction_value_string\n",
    "                \n",
    "            # determine parameter mode\n",
    "            first_instruction_value_string = first_instruction_value_string[0] # we dont need opcode anymore\n",
    "            \n",
    "            output_value = program[ip+1] if int(first_instruction_value_string) else program[program[ip+1]]\n",
    "            #print(\"output: {}\".format(output_value))\n",
    "            \n",
    "            ip += opcode_parameter_map[\"4\"] + 1\n",
    "            \n",
    "            return program, ip, output_value\n",
    "            \n",
    "            \n",
    "        # jump if true\n",
    "        elif opcode == 5:\n",
    "            while len(first_instruction_value_string) < 4: # 2 digits of parameter modes + 2 digits of opcode\n",
    "                first_instruction_value_string = \"0\" + first_instruction_value_string\n",
    "                \n",
    "            # determine parameter modes\n",
    "            first_instruction_value_string = first_instruction_value_string[:-2]\n",
    "            condition = program[ip+1] if int(first_instruction_value_string[-1]) else program[program[ip+1]]\n",
    "            new_ip_position = program[ip+2] if int(first_instruction_value_string[-2]) else program[program[ip+2]]\n",
    "            \n",
    "            if condition:\n",
    "                ip = new_ip_position\n",
    "            else:\n",
    "                ip += opcode_parameter_map[\"5\"] + 1\n",
    "        \n",
    "        # jump if false\n",
    "        elif opcode == 6:\n",
    "            while len(first_instruction_value_string) < 4:\n",
    "                first_instruction_value_string = \"0\" + first_instruction_value_string\n",
    "                \n",
    "            # determine parameter modes\n",
    "            first_instruction_value_string = first_instruction_value_string[:-2]\n",
    "            condition = program[ip+1] if int(first_instruction_value_string[-1]) else program[program[ip+1]]\n",
    "            new_ip_position = program[ip+2] if int(first_instruction_value_string[-2]) else program[program[ip+2]]\n",
    "            \n",
    "            if not condition:\n",
    "                ip = new_ip_position\n",
    "            else:\n",
    "                ip += opcode_parameter_map[\"6\"] + 1\n",
    "        \n",
    "        # less than\n",
    "        elif opcode == 7:\n",
    "            while len(first_instruction_value_string) < 5:\n",
    "                first_instruction_value_string = \"0\" + first_instruction_value_string\n",
    "                \n",
    "            # determine parameter modes\n",
    "            first_instruction_value_string = first_instruction_value_string[:-2]\n",
    "            val1 = program[ip+1] if int(first_instruction_value_string[-1]) else program[program[ip+1]]\n",
    "            val2 = program[ip+2] if int(first_instruction_value_string[-2]) else program[program[ip+2]]\n",
    "            if val1 < val2:\n",
    "                program[program[ip+3]] = 1\n",
    "            else:\n",
    "                program[program[ip+3]] = 0\n",
    "                \n",
    "            ip += opcode_parameter_map[\"7\"] + 1\n",
    "                \n",
    "        \n",
    "        # equals\n",
    "        elif opcode == 8:\n",
    "            while len(first_instruction_value_string) < 5:\n",
    "                first_instruction_value_string = \"0\" + first_instruction_value_string\n",
    "                \n",
    "            # determine parameter modes\n",
    "            first_instruction_value_string = first_instruction_value_string[:-2]\n",
    "            val1 = program[ip+1] if int(first_instruction_value_string[-1]) else program[program[ip+1]]\n",
    "            val2 = program[ip+2] if int(first_instruction_value_string[-2]) else program[program[ip+2]]\n",
    "            if val1 == val2:\n",
    "                program[program[ip+3]] = 1\n",
    "            else:\n",
    "                program[program[ip+3]] = 0\n",
    "                \n",
    "            ip += opcode_parameter_map[\"8\"] + 1\n",
    "            \n",
    "\n",
    "    return program, ip, output_value"
   ]
  },
  {
   "cell_type": "code",
   "execution_count": 12,
   "metadata": {},
   "outputs": [],
   "source": [
    "highest_signal = 0 # we want to maximize this signal by running our intcode computer with the phase_settings\n",
    "highest_signal_phase_setting_sequence = \"\""
   ]
  },
  {
   "cell_type": "code",
   "execution_count": 424,
   "metadata": {
    "scrolled": false
   },
   "outputs": [],
   "source": [
    "# test_program = [3,15,3,16,1002,16,10,16,1,16,15,15,4,15,99,0,0]\n",
    "\n",
    "program = puzzle_input\n",
    "\n",
    "for phase_setting_combination in concatenations:\n",
    "    input_val = 0 # thrusters\n",
    "    \n",
    "    for digit in phase_setting_combination:\n",
    "        digit = int(digit)\n",
    "        program, program_output = intcode_computer(program, [digit, input_val])\n",
    "        input_val = program_output\n",
    "        program = clear_memory(program)\n",
    "    \n",
    "    # at this point, input_val is the output of the last amplifier. Check it input_val is larger than\n",
    "    # the current highest signal\n",
    "    if input_val > highest_signal:\n",
    "        highest_signal = input_val\n",
    "        highest_signal_phase_setting_sequence = phase_setting_combination        "
   ]
  },
  {
   "cell_type": "code",
   "execution_count": 426,
   "metadata": {},
   "outputs": [
    {
     "name": "stdout",
     "output_type": "stream",
     "text": [
      "75228 03421\n"
     ]
    }
   ],
   "source": [
    "print(highest_signal, highest_signal_phase_setting_sequence)"
   ]
  },
  {
   "cell_type": "code",
   "execution_count": 435,
   "metadata": {},
   "outputs": [],
   "source": [
    "# -------------------------------------- PART B -----------------------------------------------------------"
   ]
  },
  {
   "cell_type": "code",
   "execution_count": 13,
   "metadata": {},
   "outputs": [
    {
     "name": "stdout",
     "output_type": "stream",
     "text": [
      "['56789', '56798', '56879', '56897', '56978', '56987', '57689', '57698', '57869', '57896', '57968', '57986', '58679', '58697', '58769', '58796', '58967', '58976', '59678', '59687', '59768', '59786', '59867', '59876', '65789', '65798', '65879', '65897', '65978', '65987', '67589', '67598', '67859', '67895', '67958', '67985', '68579', '68597', '68759', '68795', '68957', '68975', '69578', '69587', '69758', '69785', '69857', '69875', '75689', '75698', '75869', '75896', '75968', '75986', '76589', '76598', '76859', '76895', '76958', '76985', '78569', '78596', '78659', '78695', '78956', '78965', '79568', '79586', '79658', '79685', '79856', '79865', '85679', '85697', '85769', '85796', '85967', '85976', '86579', '86597', '86759', '86795', '86957', '86975', '87569', '87596', '87659', '87695', '87956', '87965', '89567', '89576', '89657', '89675', '89756', '89765', '95678', '95687', '95768', '95786', '95867', '95876', '96578', '96587', '96758', '96785', '96857', '96875', '97568', '97586', '97658', '97685', '97856', '97865', '98567', '98576', '98657', '98675', '98756', '98765']\n"
     ]
    }
   ],
   "source": [
    "# we need new phase settings, going from 56789 to 98765\n",
    "feedback_loop_phase_settings = (5, 6, 7, 8, 9)\n",
    "\n",
    "permutations = []\n",
    "\n",
    "for feedback_sequence in range(56789, 98766):\n",
    "    feedback_sequence_string = str(feedback_sequence)    \n",
    "    if string_only_contains_phase_setting_digits(feedback_sequence_string, feedback_loop_phase_settings) and string_is_unique(feedback_sequence_string):\n",
    "        permutations.append(feedback_sequence_string)\n",
    "        \n",
    "print(permutations)"
   ]
  },
  {
   "cell_type": "code",
   "execution_count": 52,
   "metadata": {},
   "outputs": [],
   "source": [
    "# SET UP PRORGAM DATA\n",
    "\n",
    "# create hashmap storing the current program state for each amplifier\n",
    "program_data = dict()\n",
    "\n",
    "# program data contains the current state of the program (array) as well as the index of the instruction pointer\n",
    "program_data[\"0\"] = dict()\n",
    "program_data[\"1\"] = dict()\n",
    "program_data[\"2\"] = dict()\n",
    "program_data[\"3\"] = dict()\n",
    "program_data[\"4\"] = dict()\n",
    "\n",
    "# name the amplifiers\n",
    "amps = dict()\n",
    "amps[\"0\"] = \"AMP A\"\n",
    "amps[\"1\"] = \"AMP B\"\n",
    "amps[\"2\"] = \"AMP C\"\n",
    "amps[\"3\"] = \"AMP D\"\n",
    "amps[\"4\"] = \"AMP E\""
   ]
  },
  {
   "cell_type": "code",
   "execution_count": 53,
   "metadata": {},
   "outputs": [],
   "source": [
    "feedback_loop_highest_signal = 0\n",
    "feedback_loop_highest_signal_phase_setting_sequence = \"\""
   ]
  },
  {
   "cell_type": "code",
   "execution_count": 54,
   "metadata": {},
   "outputs": [],
   "source": [
    "# example 1\n",
    "# puzzle_input = [3,26,1001,26,-4,26,3,27,1002,27,2,27,1,27,26,27,4,27,1001,28,-1,28,1005,28,6,99,0,0,5]\n",
    "\n",
    "# example 2\n",
    "puzzle_input = [3,52,1001,52,-5,52,3,53,1,52,56,54,1007,54,5,55,1005,55,26,1001,54,-5,54,1105,1,12,1,53,54,53,1008,54,0,55,1001,55,1,55,2,53,55,53,4,53,1001,56,-1,56,1005,56,6,99,0,0,0,0,10]\n",
    "\n",
    "# real input\n",
    "# puzzle_input = [3,8,1001,8,10,8,105,1,0,0,21,42,51,76,101,118,199,280,361,442,99999,3,9,101,5,9,9,102,2,9,9,1001,9,4,9,102,2,9,9,4,9,99,3,9,1002,9,3,9,4,9,99,3,9,1002,9,4,9,1001,9,3,9,1002,9,5,9,101,3,9,9,1002,9,2,9,4,9,99,3,9,101,4,9,9,1002,9,2,9,1001,9,3,9,1002,9,3,9,101,4,9,9,4,9,99,3,9,101,3,9,9,1002,9,3,9,101,2,9,9,4,9,99,3,9,1002,9,2,9,4,9,3,9,1001,9,2,9,4,9,3,9,1002,9,2,9,4,9,3,9,102,2,9,9,4,9,3,9,1002,9,2,9,4,9,3,9,1001,9,2,9,4,9,3,9,101,2,9,9,4,9,3,9,1002,9,2,9,4,9,3,9,1002,9,2,9,4,9,3,9,1001,9,1,9,4,9,99,3,9,1001,9,1,9,4,9,3,9,1002,9,2,9,4,9,3,9,1001,9,1,9,4,9,3,9,101,1,9,9,4,9,3,9,1001,9,1,9,4,9,3,9,101,2,9,9,4,9,3,9,1002,9,2,9,4,9,3,9,1001,9,2,9,4,9,3,9,101,2,9,9,4,9,3,9,1002,9,2,9,4,9,99,3,9,1002,9,2,9,4,9,3,9,101,1,9,9,4,9,3,9,1002,9,2,9,4,9,3,9,102,2,9,9,4,9,3,9,1001,9,1,9,4,9,3,9,101,1,9,9,4,9,3,9,102,2,9,9,4,9,3,9,1002,9,2,9,4,9,3,9,1002,9,2,9,4,9,3,9,101,2,9,9,4,9,99,3,9,1002,9,2,9,4,9,3,9,1001,9,1,9,4,9,3,9,1002,9,2,9,4,9,3,9,1002,9,2,9,4,9,3,9,1002,9,2,9,4,9,3,9,1002,9,2,9,4,9,3,9,102,2,9,9,4,9,3,9,1001,9,2,9,4,9,3,9,101,2,9,9,4,9,3,9,101,1,9,9,4,9,99,3,9,1002,9,2,9,4,9,3,9,101,1,9,9,4,9,3,9,102,2,9,9,4,9,3,9,102,2,9,9,4,9,3,9,102,2,9,9,4,9,3,9,1001,9,1,9,4,9,3,9,1001,9,1,9,4,9,3,9,101,2,9,9,4,9,3,9,1002,9,2,9,4,9,3,9,101,2,9,9,4,9,99]"
   ]
  },
  {
   "cell_type": "code",
   "execution_count": 55,
   "metadata": {
    "scrolled": false
   },
   "outputs": [
    {
     "ename": "TypeError",
     "evalue": "'>' not supported between instances of 'NoneType' and 'int'",
     "output_type": "error",
     "traceback": [
      "\u001b[1;31m---------------------------------------------------------------------------\u001b[0m",
      "\u001b[1;31mTypeError\u001b[0m                                 Traceback (most recent call last)",
      "\u001b[1;32m<ipython-input-55-1b6f86040079>\u001b[0m in \u001b[0;36m<module>\u001b[1;34m\u001b[0m\n\u001b[0;32m     48\u001b[0m     \u001b[1;31m# at this point, input_val is the output of the last amplifier. Check it input_val is larger than\u001b[0m\u001b[1;33m\u001b[0m\u001b[1;33m\u001b[0m\u001b[0m\n\u001b[0;32m     49\u001b[0m     \u001b[1;31m# the current highest signal\u001b[0m\u001b[1;33m\u001b[0m\u001b[1;33m\u001b[0m\u001b[0m\n\u001b[1;32m---> 50\u001b[1;33m     \u001b[1;32mif\u001b[0m \u001b[0minput_value\u001b[0m \u001b[1;33m>\u001b[0m \u001b[0mfeedback_loop_highest_signal\u001b[0m\u001b[1;33m:\u001b[0m\u001b[1;33m\u001b[0m\u001b[0m\n\u001b[0m\u001b[0;32m     51\u001b[0m         \u001b[0mfeedback_loop_highest_signal\u001b[0m \u001b[1;33m=\u001b[0m \u001b[0minput_value\u001b[0m\u001b[1;33m\u001b[0m\u001b[0m\n\u001b[0;32m     52\u001b[0m         \u001b[0mfeedback_loop_highest_signal_phase_setting_sequence\u001b[0m \u001b[1;33m=\u001b[0m \u001b[0mfeedback_loop_phase_setting\u001b[0m\u001b[1;33m\u001b[0m\u001b[0m\n",
      "\u001b[1;31mTypeError\u001b[0m: '>' not supported between instances of 'NoneType' and 'int'"
     ]
    }
   ],
   "source": [
    "for feedback_loop_phase_setting in permutations:\n",
    "        \n",
    "    first_loop_completed = False\n",
    "    input_value = 0\n",
    "    curr_amp_index = 0\n",
    "           \n",
    "    while True:\n",
    "        phase_setting = int(feedback_loop_phase_setting[curr_amp_index])\n",
    "        \n",
    "        # Provide each amplifier its phase setting at its first input instruction; \n",
    "        # all further input/output instructions are for signals.\n",
    "        program_input = [phase_setting, input_value] if not first_loop_completed else [input_value]\n",
    "        \n",
    "       \n",
    "        # load the current program from the program_data hashmap, if it already exists\n",
    "        if first_loop_completed:\n",
    "            program = program_data[str(curr_amp_index)][\"state\"]\n",
    "            instruction_pointer_location = program_data[str(curr_amp_index)][\"instruction_pointer_location\"]      \n",
    "        \n",
    "        else: # new permutation\n",
    "            program = np.copy(puzzle_input)\n",
    "            instruction_pointer_location = 0\n",
    "            \n",
    "        new_program, new_instruction_pointer_location, program_output = intcode_computer(program, program_input, instruction_pointer_location)\n",
    "        \n",
    "        program_data[str(curr_amp_index)][\"program_input\"] = input_value\n",
    "        program_data[str(curr_amp_index)][\"state\"] = new_program\n",
    "        program_data[str(curr_amp_index)][\"instruction_pointer_location\"] = new_instruction_pointer_location\n",
    "        program_data[str(curr_amp_index)][\"program_output\"] = program_output\n",
    "        \n",
    "        # update input for the next amplifier\n",
    "        input_value = program_output\n",
    "        \n",
    "        if curr_amp_index == 4:\n",
    "            # check if first loop has been completed\n",
    "            first_loop_completed = True\n",
    "        \n",
    "            # check if E has terminated\n",
    "            if program_data[\"4\"][\"state\"][program_data[\"4\"][\"instruction_pointer_location\"]] == 99:\n",
    "                input_value = program_output\n",
    "                break;\n",
    "        \n",
    "        \n",
    "        curr_amp_index = (curr_amp_index + 1) % len(feedback_loop_phase_setting)\n",
    "    \n",
    "    \n",
    "    \n",
    "    # at this point, input_val is the output of the last amplifier. Check it input_val is larger than\n",
    "    # the current highest signal\n",
    "    if input_value > feedback_loop_highest_signal:\n",
    "        feedback_loop_highest_signal = input_value\n",
    "        feedback_loop_highest_signal_phase_setting_sequence = feedback_loop_phase_setting \n",
    "        print(\"New highest signal: {}, Phase settings: {}\".format(feedback_loop_highest_signal, feedback_loop_highest_signal_phase_setting_sequence))"
   ]
  },
  {
   "cell_type": "code",
   "execution_count": 50,
   "metadata": {},
   "outputs": [
    {
     "name": "stdout",
     "output_type": "stream",
     "text": [
      "79846026 67958\n"
     ]
    }
   ],
   "source": [
    "print(feedback_loop_highest_signal, feedback_loop_highest_signal_phase_setting_sequence)"
   ]
  },
  {
   "cell_type": "code",
   "execution_count": null,
   "metadata": {},
   "outputs": [],
   "source": []
  }
 ],
 "metadata": {
  "kernelspec": {
   "display_name": "Python 3",
   "language": "python",
   "name": "python3"
  },
  "language_info": {
   "codemirror_mode": {
    "name": "ipython",
    "version": 3
   },
   "file_extension": ".py",
   "mimetype": "text/x-python",
   "name": "python",
   "nbconvert_exporter": "python",
   "pygments_lexer": "ipython3",
   "version": "3.7.0"
  }
 },
 "nbformat": 4,
 "nbformat_minor": 2
}
