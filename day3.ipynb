{
 "cells": [
  {
   "cell_type": "code",
   "execution_count": 1,
   "metadata": {},
   "outputs": [],
   "source": [
    "from aocd import submit"
   ]
  },
  {
   "cell_type": "code",
   "execution_count": 2,
   "metadata": {},
   "outputs": [],
   "source": [
    "from aocd.models import Puzzle"
   ]
  },
  {
   "cell_type": "code",
   "execution_count": 3,
   "metadata": {},
   "outputs": [],
   "source": [
    "puzzle = Puzzle(2019, 3)"
   ]
  },
  {
   "cell_type": "code",
   "execution_count": 4,
   "metadata": {},
   "outputs": [],
   "source": [
    "input_data = puzzle.input_data.split(\"\\n\")"
   ]
  },
  {
   "cell_type": "code",
   "execution_count": 153,
   "metadata": {},
   "outputs": [],
   "source": [
    "directions1 = input_data[0]"
   ]
  },
  {
   "cell_type": "code",
   "execution_count": 154,
   "metadata": {},
   "outputs": [],
   "source": [
    "directions2 = input_data[1]"
   ]
  },
  {
   "cell_type": "code",
   "execution_count": 155,
   "metadata": {},
   "outputs": [],
   "source": [
    "origin = [0,0]"
   ]
  },
  {
   "cell_type": "code",
   "execution_count": 156,
   "metadata": {},
   "outputs": [],
   "source": [
    "def generate_trace(directions):\n",
    "    directions = directions.split(\",\")\n",
    "    route = []\n",
    "    starting_position = (0, 0)\n",
    "    route.append(starting_position)\n",
    "    # print(\"route at the beginning: {}\".format(route))\n",
    "    \n",
    "    for direction in directions:\n",
    "        # print(\"current direction: {}, amount: {}\".format(direction[0], direction[1:]))\n",
    "        current_position = list(route[-1])\n",
    "        if direction.startswith(\"L\"):\n",
    "            for ix in range(int(direction[1:])):\n",
    "                current_position[0] -= 1\n",
    "                route.append(tuple(current_position))\n",
    "            \n",
    "        elif direction.startswith(\"R\"):\n",
    "            for ix in range(int(direction[1:])):\n",
    "                current_position[0] += 1\n",
    "                route.append(tuple(current_position))\n",
    "            \n",
    "        elif direction.startswith(\"D\"):\n",
    "            for ix in range(int(direction[1:])):\n",
    "                current_position[1] -= 1\n",
    "                route.append(tuple(current_position))\n",
    "            \n",
    "        elif direction.startswith(\"U\"):\n",
    "            for ix in range(int(direction[1:])):\n",
    "                current_position[1] += 1\n",
    "                route.append(tuple(current_position))\n",
    "            # print(\"adding {} to route.\".format(tuple(current_position)))\n",
    "            \n",
    "        #print(\"New Route: {}\".format(route))\n",
    "    \n",
    "    return route"
   ]
  },
  {
   "cell_type": "code",
   "execution_count": 157,
   "metadata": {},
   "outputs": [],
   "source": [
    "test_route = generate_trace(\"U2,L2,D2,R2\")"
   ]
  },
  {
   "cell_type": "code",
   "execution_count": 158,
   "metadata": {},
   "outputs": [
    {
     "data": {
      "text/plain": [
       "[(0, 0), (0, 1), (0, 2), (-1, 2), (-2, 2), (-2, 1), (-2, 0), (-1, 0), (0, 0)]"
      ]
     },
     "execution_count": 158,
     "metadata": {},
     "output_type": "execute_result"
    }
   ],
   "source": [
    "test_route"
   ]
  },
  {
   "cell_type": "code",
   "execution_count": 159,
   "metadata": {},
   "outputs": [
    {
     "name": "stdout",
     "output_type": "stream",
     "text": [
      "[(0, 0), (1, 0), (2, 0), (3, 0), (4, 0), (5, 0), (6, 0), (7, 0), (8, 0), (9, 0)]\n",
      "[(0, 0), (-1, 0), (-2, 0), (-3, 0), (-4, 0), (-5, 0), (-6, 0), (-7, 0), (-8, 0), (-9, 0)]\n"
     ]
    }
   ],
   "source": [
    "wire1_route = generate_trace(directions1)\n",
    "wire2_route = generate_trace(directions2)\n",
    "print(wire1_route[:10])\n",
    "print(wire2_route[:10])"
   ]
  },
  {
   "cell_type": "code",
   "execution_count": 160,
   "metadata": {},
   "outputs": [],
   "source": [
    "def intersection(list1, list2):\n",
    "    return list(set(list1) & set(list2))"
   ]
  },
  {
   "cell_type": "code",
   "execution_count": 161,
   "metadata": {},
   "outputs": [],
   "source": [
    "intersections = intersection(wire1_route, wire2_route)\n",
    "intersections.remove((0, 0))"
   ]
  },
  {
   "cell_type": "code",
   "execution_count": 162,
   "metadata": {},
   "outputs": [
    {
     "data": {
      "text/plain": [
       "(0, 0)"
      ]
     },
     "execution_count": 162,
     "metadata": {},
     "output_type": "execute_result"
    }
   ],
   "source": [
    "origin = tuple(origin)\n",
    "origin"
   ]
  },
  {
   "cell_type": "code",
   "execution_count": 163,
   "metadata": {},
   "outputs": [],
   "source": [
    "def calculate_manhattan_distance(vec1, vec2):\n",
    "    distance = 0\n",
    "    for ix in range(2):\n",
    "        distance += abs(vec1[ix] - vec2[ix])\n",
    "    return distance"
   ]
  },
  {
   "cell_type": "code",
   "execution_count": 164,
   "metadata": {},
   "outputs": [],
   "source": [
    "import math"
   ]
  },
  {
   "cell_type": "code",
   "execution_count": 165,
   "metadata": {},
   "outputs": [],
   "source": [
    "closest = math.inf"
   ]
  },
  {
   "cell_type": "code",
   "execution_count": 166,
   "metadata": {},
   "outputs": [],
   "source": [
    "for intersection in intersections:\n",
    "    d = calculate_manhattan_distance(intersection, origin)\n",
    "    if d < closest:\n",
    "        closest = d"
   ]
  },
  {
   "cell_type": "code",
   "execution_count": 167,
   "metadata": {},
   "outputs": [
    {
     "data": {
      "text/plain": [
       "5319"
      ]
     },
     "execution_count": 167,
     "metadata": {},
     "output_type": "execute_result"
    }
   ],
   "source": [
    "closest"
   ]
  },
  {
   "cell_type": "code",
   "execution_count": 168,
   "metadata": {},
   "outputs": [],
   "source": [
    "# submit(closest, part=\"a\", day=3, year=2019) CORRECT, NOW TO PART B:"
   ]
  },
  {
   "cell_type": "code",
   "execution_count": 169,
   "metadata": {
    "scrolled": true
   },
   "outputs": [
    {
     "data": {
      "text/plain": [
       "[(-3480, -2559),\n",
       " (-494, -6012),\n",
       " (-1378, -6307),\n",
       " (973, -5348),\n",
       " (996, -7017),\n",
       " (499, -6750),\n",
       " (-2246, -3164),\n",
       " (-3266, -3024),\n",
       " (-1378, -6402),\n",
       " (39, -5668),\n",
       " (-3749, -3611),\n",
       " (-524, -6012),\n",
       " (-3749, -3403),\n",
       " (562, -4757),\n",
       " (-3326, -3480),\n",
       " (499, -6895),\n",
       " (-3852, -2559),\n",
       " (974, -6355),\n",
       " (-3127, -3024),\n",
       " (1913, -6258),\n",
       " (-3365, -3448),\n",
       " (-2326, -3210),\n",
       " (-4221, -3429),\n",
       " (-1378, -6560),\n",
       " (-455, -6012),\n",
       " (-2367, -4101),\n",
       " (-3365, -3024),\n",
       " (-46, -5668),\n",
       " (-3749, -3480),\n",
       " (-1366, -6590),\n",
       " (1421, -6026),\n",
       " (562, -5065),\n",
       " (-4114, -3611),\n",
       " (-4099, -3660),\n",
       " (-377, -6012),\n",
       " (-4221, -3448),\n",
       " (-3946, -3448),\n",
       " (973, -5186),\n",
       " (-821, -6254),\n",
       " (-4083, -3809),\n",
       " (-2183, -4106)]"
      ]
     },
     "execution_count": 169,
     "metadata": {},
     "output_type": "execute_result"
    }
   ],
   "source": [
    "intersections"
   ]
  },
  {
   "cell_type": "code",
   "execution_count": 170,
   "metadata": {},
   "outputs": [],
   "source": [
    "def calculate_steps_to_intersection(intersection, route):\n",
    "    for step_count, coords in enumerate(route):\n",
    "        if coords == intersection:\n",
    "            # return how many steps it took to arrive at that intersection\n",
    "            return len(route[:step_count])\n",
    "    "
   ]
  },
  {
   "cell_type": "code",
   "execution_count": 171,
   "metadata": {},
   "outputs": [],
   "source": [
    "def get_fewest_combined_steps_to_intersection(directions1, directions2):\n",
    "    route1 = generate_trace(directions1)\n",
    "    route2 = generate_trace(directions2)\n",
    "    \n",
    "    # find intersection and remove origin\n",
    "    intersections = list(set(route1) & set(route2))\n",
    "    intersections.remove((0, 0))\n",
    "    \n",
    "    fewest_combined_steps_to_intersection = math.inf\n",
    "    \n",
    "    for intersection in intersections:\n",
    "        current_combined_steps_to_intersection = calculate_steps_to_intersection(intersection, route1) + calculate_steps_to_intersection(intersection, route2)\n",
    "        # update to new minimum if you find one\n",
    "        fewest_combined_steps_to_intersection = min(fewest_combined_steps_to_intersection, current_combined_steps_to_intersection)\n",
    "        \n",
    "    return fewest_combined_steps_to_intersection       "
   ]
  },
  {
   "cell_type": "code",
   "execution_count": 173,
   "metadata": {},
   "outputs": [],
   "source": [
    "solution_part_b = get_fewest_combined_steps_to_intersection(directions1, directions2)"
   ]
  },
  {
   "cell_type": "code",
   "execution_count": 174,
   "metadata": {},
   "outputs": [
    {
     "data": {
      "text/plain": [
       "122514"
      ]
     },
     "execution_count": 174,
     "metadata": {},
     "output_type": "execute_result"
    }
   ],
   "source": [
    "solution_part_b"
   ]
  },
  {
   "cell_type": "code",
   "execution_count": 176,
   "metadata": {},
   "outputs": [
    {
     "name": "stdout",
     "output_type": "stream",
     "text": [
      "That's the right answer!  You are one gold star closer to rescuing Santa.You have completed Day 3! You can [Shareon\n",
      "  Twitter\n",
      "Mastodon] this victory or [Return to Your Advent Calendar].\n"
     ]
    },
    {
     "data": {
      "text/plain": [
       "<Response [200]>"
      ]
     },
     "execution_count": 176,
     "metadata": {},
     "output_type": "execute_result"
    }
   ],
   "source": [
    "submit(solution_part_b, part=\"b\", day=3, year=2019)"
   ]
  },
  {
   "cell_type": "code",
   "execution_count": null,
   "metadata": {},
   "outputs": [],
   "source": []
  }
 ],
 "metadata": {
  "kernelspec": {
   "display_name": "Python 3",
   "language": "python",
   "name": "python3"
  },
  "language_info": {
   "codemirror_mode": {
    "name": "ipython",
    "version": 3
   },
   "file_extension": ".py",
   "mimetype": "text/x-python",
   "name": "python",
   "nbconvert_exporter": "python",
   "pygments_lexer": "ipython3",
   "version": "3.7.0"
  }
 },
 "nbformat": 4,
 "nbformat_minor": 2
}
