{
 "cells": [
  {
   "cell_type": "code",
   "execution_count": 159,
   "metadata": {},
   "outputs": [],
   "source": [
    "from aocd import submit\n",
    "from aocd.models import Puzzle"
   ]
  },
  {
   "cell_type": "code",
   "execution_count": 160,
   "metadata": {},
   "outputs": [],
   "source": [
    "puzzle = Puzzle(2019, 5)"
   ]
  },
  {
   "cell_type": "code",
   "execution_count": 161,
   "metadata": {},
   "outputs": [],
   "source": [
    "puzzle_input = puzzle.input_data"
   ]
  },
  {
   "cell_type": "code",
   "execution_count": 162,
   "metadata": {
    "scrolled": true
   },
   "outputs": [
    {
     "name": "stdout",
     "output_type": "stream",
     "text": [
      "[3, 225, 1, 225, 6, 6, 1100, 1, 238, 225, 104, 0, 1101, 81, 30, 225, 1102, 9, 63, 225, 1001, 92, 45, 224, 101, -83, 224, 224, 4, 224, 102, 8, 223, 223, 101, 2, 224, 224, 1, 224, 223, 223, 1102, 41, 38, 225, 1002, 165, 73, 224, 101, -2920, 224, 224, 4, 224, 102, 8, 223, 223, 101, 4, 224, 224, 1, 223, 224, 223, 1101, 18, 14, 224, 1001, 224, -32, 224, 4, 224, 1002, 223, 8, 223, 101, 3, 224, 224, 1, 224, 223, 223, 1101, 67, 38, 225, 1102, 54, 62, 224, 1001, 224, -3348, 224, 4, 224, 1002, 223, 8, 223, 1001, 224, 1, 224, 1, 224, 223, 223, 1, 161, 169, 224, 101, -62, 224, 224, 4, 224, 1002, 223, 8, 223, 101, 1, 224, 224, 1, 223, 224, 223, 2, 14, 18, 224, 1001, 224, -1890, 224, 4, 224, 1002, 223, 8, 223, 101, 3, 224, 224, 1, 223, 224, 223, 1101, 20, 25, 225, 1102, 40, 11, 225, 1102, 42, 58, 225, 101, 76, 217, 224, 101, -153, 224, 224, 4, 224, 102, 8, 223, 223, 1001, 224, 5, 224, 1, 224, 223, 223, 102, 11, 43, 224, 1001, 224, -451, 224, 4, 224, 1002, 223, 8, 223, 101, 6, 224, 224, 1, 223, 224, 223, 1102, 77, 23, 225, 4, 223, 99, 0, 0, 0, 677, 0, 0, 0, 0, 0, 0, 0, 0, 0, 0, 0, 1105, 0, 99999, 1105, 227, 247, 1105, 1, 99999, 1005, 227, 99999, 1005, 0, 256, 1105, 1, 99999, 1106, 227, 99999, 1106, 0, 265, 1105, 1, 99999, 1006, 0, 99999, 1006, 227, 274, 1105, 1, 99999, 1105, 1, 280, 1105, 1, 99999, 1, 225, 225, 225, 1101, 294, 0, 0, 105, 1, 0, 1105, 1, 99999, 1106, 0, 300, 1105, 1, 99999, 1, 225, 225, 225, 1101, 314, 0, 0, 106, 0, 0, 1105, 1, 99999, 8, 226, 677, 224, 1002, 223, 2, 223, 1006, 224, 329, 1001, 223, 1, 223, 7, 226, 226, 224, 102, 2, 223, 223, 1006, 224, 344, 101, 1, 223, 223, 108, 677, 677, 224, 1002, 223, 2, 223, 1006, 224, 359, 101, 1, 223, 223, 1107, 226, 677, 224, 1002, 223, 2, 223, 1005, 224, 374, 101, 1, 223, 223, 1008, 677, 226, 224, 1002, 223, 2, 223, 1005, 224, 389, 101, 1, 223, 223, 1007, 677, 226, 224, 1002, 223, 2, 223, 1005, 224, 404, 1001, 223, 1, 223, 1107, 677, 226, 224, 1002, 223, 2, 223, 1005, 224, 419, 1001, 223, 1, 223, 108, 677, 226, 224, 102, 2, 223, 223, 1006, 224, 434, 1001, 223, 1, 223, 7, 226, 677, 224, 102, 2, 223, 223, 1005, 224, 449, 1001, 223, 1, 223, 107, 226, 226, 224, 102, 2, 223, 223, 1006, 224, 464, 101, 1, 223, 223, 107, 677, 226, 224, 102, 2, 223, 223, 1006, 224, 479, 101, 1, 223, 223, 1007, 677, 677, 224, 1002, 223, 2, 223, 1006, 224, 494, 1001, 223, 1, 223, 1008, 226, 226, 224, 1002, 223, 2, 223, 1006, 224, 509, 101, 1, 223, 223, 7, 677, 226, 224, 1002, 223, 2, 223, 1006, 224, 524, 1001, 223, 1, 223, 1007, 226, 226, 224, 102, 2, 223, 223, 1006, 224, 539, 101, 1, 223, 223, 8, 677, 226, 224, 1002, 223, 2, 223, 1006, 224, 554, 101, 1, 223, 223, 1008, 677, 677, 224, 102, 2, 223, 223, 1006, 224, 569, 101, 1, 223, 223, 1108, 677, 226, 224, 102, 2, 223, 223, 1005, 224, 584, 101, 1, 223, 223, 107, 677, 677, 224, 102, 2, 223, 223, 1006, 224, 599, 1001, 223, 1, 223, 1108, 677, 677, 224, 1002, 223, 2, 223, 1006, 224, 614, 1001, 223, 1, 223, 1107, 677, 677, 224, 1002, 223, 2, 223, 1005, 224, 629, 1001, 223, 1, 223, 108, 226, 226, 224, 1002, 223, 2, 223, 1005, 224, 644, 101, 1, 223, 223, 8, 226, 226, 224, 1002, 223, 2, 223, 1005, 224, 659, 101, 1, 223, 223, 1108, 226, 677, 224, 1002, 223, 2, 223, 1006, 224, 674, 101, 1, 223, 223, 4, 223, 99, 226]\n"
     ]
    }
   ],
   "source": [
    "puzzle_input = [int(x) for x in puzzle_input.split(\",\")]\n",
    "print(puzzle_input)"
   ]
  },
  {
   "cell_type": "code",
   "execution_count": 163,
   "metadata": {},
   "outputs": [
    {
     "data": {
      "text/plain": [
       "'def get_opcode(value):\\n    # the opcode is the rightmost two digits of the first value in an instruction\\n    if len(str(value)) == 1: return value\\n    if len(str(value)) == 2: return int(str(value[1])) if str(value).startswith(\"0\") else value\\n    else: return int(str(value)[len(str(value))-2:])'"
      ]
     },
     "execution_count": 163,
     "metadata": {},
     "output_type": "execute_result"
    }
   ],
   "source": [
    "\"\"\"def get_opcode(value):\n",
    "    # the opcode is the rightmost two digits of the first value in an instruction\n",
    "    if len(str(value)) == 1: return value\n",
    "    if len(str(value)) == 2: return int(str(value[1])) if str(value).startswith(\"0\") else value\n",
    "    else: return int(str(value)[len(str(value))-2:])\"\"\""
   ]
  },
  {
   "cell_type": "code",
   "execution_count": 164,
   "metadata": {},
   "outputs": [
    {
     "name": "stdout",
     "output_type": "stream",
     "text": [
      "hi\n"
     ]
    }
   ],
   "source": [
    "if 1: print(\"hi\")"
   ]
  },
  {
   "cell_type": "code",
   "execution_count": 165,
   "metadata": {},
   "outputs": [],
   "source": [
    "# modify your intcode computer from day 2\n",
    "\n",
    "def get_opcode(value):\n",
    "    # the opcode is the rightmost two digits of the first value in an instruction\n",
    "    if len(str(value)) == 1: return value\n",
    "    if len(str(value)) == 2: return int(str(value[1])) if str(value).startswith(\"0\") else value\n",
    "    else: return int(str(value)[len(str(value))-2:])\n",
    "    \n",
    "    \n",
    "def intcode_computer(program, input_value):\n",
    "    \n",
    "    # map opcodes to parameter count\n",
    "    opcode_parameter_map = dict()\n",
    "    opcode_parameter_map[\"1\"] = 3 # addition: summand1, summand2, adress of sum\n",
    "    opcode_parameter_map[\"2\"] = 3 # multiplication: factor1, factor2, adress of product\n",
    "    opcode_parameter_map[\"3\"] = 1 # input: where to store input address\n",
    "    opcode_parameter_map[\"4\"] = 1 # output: where to read output address\n",
    "    opcode_parameter_map[\"5\"] = 2 # jump-if-true: compare boolean of 2 parameters\n",
    "    opcode_parameter_map[\"6\"] = 2 # jump-if-false: compare boolean of 2 parameters\n",
    "    opcode_parameter_map[\"7\"] = 3 # less-than: compare values from 2 parameters, store 1 in position of third\n",
    "    opcode_parameter_map[\"8\"] = 3 # equals: compare values from 2 parameters, store 1 in position of third\n",
    "    \n",
    "    output_value = None\n",
    "    \n",
    "    ip = 0 # instruction pointer\n",
    "    \n",
    "    while True:\n",
    "        # program[ip] is always the first value of the instruction. It contains the opcode and the parameter modes.\n",
    "        # it is an integer.\n",
    "        \n",
    "        opcode = get_opcode(program[ip])\n",
    "        \n",
    "        #print(\"instruction value: {}; opcode: {}\".format(program[ip], opcode))\n",
    "        \n",
    "        first_instruction_value_string = str(program[ip]) \n",
    "        \n",
    "        # halt\n",
    "        if opcode == 99: break\n",
    "            \n",
    "        # addition \n",
    "        elif opcode == 1:\n",
    "            while len(first_instruction_value_string) < 5: # 3 digits of parameter modes + 2 digits of opcode\n",
    "                first_instruction_value_string = \"0\" + first_instruction_value_string\n",
    "                # print(first_instruction_value_string)\n",
    "            \n",
    "            # determine parameter modes\n",
    "            first_instruction_value_string = first_instruction_value_string[:-2] # we dont need opcode anymore\n",
    "            \n",
    "            # value is immediate if parameter mode -> position mode, else value is in address\n",
    "            val1 = program[ip+1] if int(first_instruction_value_string[-1]) else program[program[ip+1]]\n",
    "            val2 = program[ip+2] if int(first_instruction_value_string[-2]) else program[program[ip+2]]\n",
    "            program[program[ip+3]] = val1 + val2\n",
    "            \n",
    "            ip += opcode_parameter_map[\"1\"] + 1\n",
    "            \n",
    "        # multiplication   \n",
    "        elif opcode == 2:\n",
    "            while len(first_instruction_value_string) < 5: # 3 digits of parameter modes + 2 digits of opcode\n",
    "                first_instruction_value_string = \"0\" + first_instruction_value_string\n",
    "                \n",
    "            # determine parameter modes\n",
    "            first_instruction_value_string = first_instruction_value_string[:-2] # we dont need opcode anymore\n",
    "            \n",
    "            val1 = program[ip+1] if int(first_instruction_value_string[-1]) else program[program[ip+1]]\n",
    "            val2 = program[ip+2] if int(first_instruction_value_string[-2]) else program[program[ip+2]]\n",
    "            program[program[ip+3]] = val1 * val2\n",
    "            \n",
    "            ip += opcode_parameter_map[\"2\"] + 1\n",
    "            \n",
    "        # store value\n",
    "        elif opcode == 3:\n",
    "            # Parameters that an instruction writes to will never be in immediate mode\n",
    "            # so the input is always in position mode\n",
    "            program[program[ip+1]] = input_value\n",
    "            ip += opcode_parameter_map[\"3\"] + 1\n",
    "        \n",
    "        # output value\n",
    "        elif opcode == 4:\n",
    "            # i believe it is either possible to output the value at an address, or to output an immediate\n",
    "            # value. Hence, the differentiation is needed here (even though it might be unnecessary)\n",
    "            \n",
    "            while len(first_instruction_value_string) < 3: # 1 digits of parameter modes + 2 digits of opcode\n",
    "                first_instruction_value_string = \"0\" + first_instruction_value_string\n",
    "                \n",
    "            # determine parameter mode\n",
    "            first_instruction_value_string = first_instruction_value_string[0] # we dont need opcode anymore\n",
    "            \n",
    "            output_value = program[ip+1] if int(first_instruction_value_string) else program[program[ip+1]]\n",
    "            print(\"output: {}\".format(output_value))\n",
    "            \n",
    "            ip += opcode_parameter_map[\"4\"] + 1\n",
    "            \n",
    "        # ----- PART B -----\n",
    "            \n",
    "        # jump if true\n",
    "        elif opcode == 5:\n",
    "            while len(first_instruction_value_string) < 4: # 2 digits of parameter modes + 2 digits of opcode\n",
    "                first_instruction_value_string = \"0\" + first_instruction_value_string\n",
    "                \n",
    "            # determine parameter modes\n",
    "            first_instruction_value_string = first_instruction_value_string[:-2]\n",
    "            condition = program[ip+1] if int(first_instruction_value_string[-1]) else program[program[ip+1]]\n",
    "            new_ip_position = program[ip+2] if int(first_instruction_value_string[-2]) else program[program[ip+2]]\n",
    "            \n",
    "            if condition:\n",
    "                ip = new_ip_position\n",
    "            else:\n",
    "                ip += opcode_parameter_map[\"5\"] + 1\n",
    "        \n",
    "        # jump if false\n",
    "        elif opcode == 6:\n",
    "            while len(first_instruction_value_string) < 4:\n",
    "                first_instruction_value_string = \"0\" + first_instruction_value_string\n",
    "                \n",
    "            # determine parameter modes\n",
    "            first_instruction_value_string = first_instruction_value_string[:-2]\n",
    "            condition = program[ip+1] if int(first_instruction_value_string[-1]) else program[program[ip+1]]\n",
    "            new_ip_position = program[ip+2] if int(first_instruction_value_string[-2]) else program[program[ip+2]]\n",
    "            \n",
    "            if not condition:\n",
    "                ip = new_ip_position\n",
    "            else:\n",
    "                ip += opcode_parameter_map[\"6\"] + 1\n",
    "        \n",
    "        # less than\n",
    "        elif opcode == 7:\n",
    "            while len(first_instruction_value_string) < 5:\n",
    "                first_instruction_value_string = \"0\" + first_instruction_value_string\n",
    "                \n",
    "            # determine parameter modes\n",
    "            first_instruction_value_string = first_instruction_value_string[:-2]\n",
    "            val1 = program[ip+1] if int(first_instruction_value_string[-1]) else program[program[ip+1]]\n",
    "            val2 = program[ip+2] if int(first_instruction_value_string[-2]) else program[program[ip+2]]\n",
    "            if val1 < val2:\n",
    "                program[program[ip+3]] = 1\n",
    "            else:\n",
    "                program[program[ip+3]] = 0\n",
    "                \n",
    "            ip += opcode_parameter_map[\"7\"] + 1\n",
    "                \n",
    "        \n",
    "        # equals\n",
    "        elif opcode == 8:\n",
    "            while len(first_instruction_value_string) < 5:\n",
    "                first_instruction_value_string = \"0\" + first_instruction_value_string\n",
    "                \n",
    "            # determine parameter modes\n",
    "            first_instruction_value_string = first_instruction_value_string[:-2]\n",
    "            val1 = program[ip+1] if int(first_instruction_value_string[-1]) else program[program[ip+1]]\n",
    "            val2 = program[ip+2] if int(first_instruction_value_string[-2]) else program[program[ip+2]]\n",
    "            if val1 == val2:\n",
    "                program[program[ip+3]] = 1\n",
    "            else:\n",
    "                program[program[ip+3]] = 0\n",
    "                \n",
    "            ip += opcode_parameter_map[\"8\"] + 1\n",
    "            \n",
    "\n",
    "    # return program"
   ]
  },
  {
   "cell_type": "code",
   "execution_count": 166,
   "metadata": {},
   "outputs": [
    {
     "name": "stdout",
     "output_type": "stream",
     "text": [
      "output: 513116\n"
     ]
    }
   ],
   "source": [
    "# intcode_computer(puzzle_input, 1) this is part a. Result is <forgot>. It worked doe\n",
    "# part b\n",
    "intcode_computer(puzzle_input, 5)"
   ]
  },
  {
   "cell_type": "code",
   "execution_count": 170,
   "metadata": {},
   "outputs": [
    {
     "name": "stdout",
     "output_type": "stream",
     "text": [
      "output: 1001\n"
     ]
    }
   ],
   "source": [
    "intcode_computer([3,21,1008,21,8,20,1005,20,22,107,8,21,20,1006,20,31,\n",
    "1106,0,36,98,0,0,1002,21,125,20,4,20,1105,1,46,104,\n",
    "999,1105,1,46,1101,1000,1,20,4,20,1105,1,46,98,99], 9)"
   ]
  },
  {
   "cell_type": "code",
   "execution_count": null,
   "metadata": {},
   "outputs": [],
   "source": []
  }
 ],
 "metadata": {
  "kernelspec": {
   "display_name": "Python 3",
   "language": "python",
   "name": "python3"
  },
  "language_info": {
   "codemirror_mode": {
    "name": "ipython",
    "version": 3
   },
   "file_extension": ".py",
   "mimetype": "text/x-python",
   "name": "python",
   "nbconvert_exporter": "python",
   "pygments_lexer": "ipython3",
   "version": "3.7.0"
  }
 },
 "nbformat": 4,
 "nbformat_minor": 2
}
